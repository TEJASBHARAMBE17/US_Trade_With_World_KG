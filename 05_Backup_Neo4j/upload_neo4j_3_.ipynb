{
  "cells": [
    {
      "cell_type": "code",
      "execution_count": 65,
      "metadata": {
        "colab": {
          "base_uri": "https://localhost:8080/"
        },
        "id": "g_Pk1Y3nRahn",
        "outputId": "af7e2a0b-034c-4475-fb38-8502f28a4648"
      },
      "outputs": [
        {
          "name": "stdout",
          "output_type": "stream",
          "text": [
            "Requirement already satisfied: neo4j in c:\\python310\\lib\\site-packages (5.2.0)\n",
            "Requirement already satisfied: pytz in c:\\python310\\lib\\site-packages (from neo4j) (2022.2.1)\n"
          ]
        },
        {
          "name": "stderr",
          "output_type": "stream",
          "text": [
            "\n",
            "[notice] A new release of pip available: 22.2.1 -> 22.3.1\n",
            "[notice] To update, run: python.exe -m pip install --upgrade pip\n"
          ]
        }
      ],
      "source": [
        "!pip install neo4j"
      ]
    },
    {
      "cell_type": "code",
      "execution_count": 66,
      "metadata": {
        "id": "iahMEw8URe6s"
      },
      "outputs": [],
      "source": [
        "from neo4j import GraphDatabase\n",
        "import logging\n",
        "from neo4j.exceptions import ServiceUnavailable\n",
        "import pandas as pd\n",
        "import numpy as np"
      ]
    },
    {
      "cell_type": "code",
      "execution_count": 80,
      "metadata": {
        "id": "rZRkvzM118ws"
      },
      "outputs": [],
      "source": [
        "df = pd.read_csv('../03 Info Extraction and Triples/Updated_Data/fta_pop_gdp_cleaned_v2.csv')\n",
        "df_trades=pd.read_csv('../03 Info Extraction and Triples/Updated_Data/trades_v2.csv')"
      ]
    },
    {
      "cell_type": "code",
      "execution_count": 81,
      "metadata": {},
      "outputs": [
        {
          "data": {
            "text/plain": [
              "array(['usa', 'afg', 'alb', 'and', 'ago', 'atg', 'arg', 'arm', 'abw',\n",
              "       'aus', 'aut', 'aze', 'bhs', 'bhr', 'bgd', 'brb', 'blr', 'bel',\n",
              "       'blz', 'ben', 'bmu', 'btn', 'bol', 'bih', 'bwa', 'bra', 'iot',\n",
              "       'brn', 'bgr', 'bfa', 'bdi', 'khm', 'cmr', 'can', 'cpv', 'cym',\n",
              "       'caf', 'tcd', 'chn', 'cxr', 'cck', 'col', 'com', 'cog', 'cod',\n",
              "       'cok', 'cri', 'civ', 'hrv', 'cub', 'cyp', 'cuw', 'cze', 'dnk',\n",
              "       'dji', 'dma', 'dom', 'ecu', 'egy', 'slv', 'gnq', 'eri', 'eth',\n",
              "       'flk', 'fji', 'fin', 'fra', 'pyf', 'atf', 'gab', 'gmb', 'geo',\n",
              "       'deu', 'gha', 'gib', 'grd', 'gtm', 'gin', 'gnb', 'guy', 'hti',\n",
              "       'hnd', 'hkg', 'hun', 'isl', 'ind', 'idn', 'irn', 'irq', 'irl',\n",
              "       'isr', 'ita', 'jam', 'jpn', 'jor', 'kaz', 'ken', 'kir', 'prk',\n",
              "       'kor', 'kwt', 'kgz', 'lao', 'lva', 'lbn', 'lso', 'lbr', 'lby',\n",
              "       'ltu', 'lux', 'mac', 'mkd', 'mdg', 'mwi', 'mys', 'mdv', 'mli',\n",
              "       'mlt', 'mhl', 'mrt', 'mus', 'myt', 'mex', 'fsm', 'mda', 'mne',\n",
              "       'msr', 'mar', 'moz', 'mmr', 'nam', 'nru', 'npl', 'nld', 'ncl',\n",
              "       'ner', 'nga', 'niu', 'nfk', 'nor', 'omn', 'pak', 'plw', 'pse',\n",
              "       'pan', 'png', 'pry', 'per', 'phl', 'pcn', 'pol', 'prt', 'qat',\n",
              "       'rou', 'rus', 'rwa', 'shn', 'kna', 'lca', 'spm', 'maf', 'vct',\n",
              "       'wsm', 'smr', 'stp', 'sau', 'sen', 'srb', 'syc', 'sle', 'svk',\n",
              "       'slb', 'som', 'zaf', 'esp', 'ssd', 'lka', 'sdn', 'sur', 'swz',\n",
              "       'swe', 'che', 'syr', 'tjk', 'tza', 'tha', 'tls', 'tgo', 'tkl',\n",
              "       'ton', 'tun', 'tkm', 'tca', 'tuv', 'uga', 'ukr', 'are', 'gbr',\n",
              "       'ury', 'uzb', 'vut', 'ven', 'vnm', 'vgb', 'wlf', 'yem', 'zwe'],\n",
              "      dtype=object)"
            ]
          },
          "execution_count": 81,
          "metadata": {},
          "output_type": "execute_result"
        }
      ],
      "source": [
        "df_trades['exports_from'].unique()"
      ]
    },
    {
      "cell_type": "code",
      "execution_count": 69,
      "metadata": {},
      "outputs": [],
      "source": [
        "\n",
        "def get_query(row):\n",
        "        str1 = 'MERGE (n1: Country {countryID : $n1}) ON CREATE SET n1.name = $n2,  '\n",
        "        for num in df.columns[5:-3]:\n",
        "            if row[num]==row[num]:\n",
        "                str1+= f'n1.{num}= $n{num}, '\n",
        "        str1 =str1[:-2]\n",
        "        return str1"
      ]
    },
    {
      "cell_type": "code",
      "execution_count": 70,
      "metadata": {
        "id": "3WvoYfTk3PMx"
      },
      "outputs": [],
      "source": [
        "class App:\n",
        "\n",
        "    def __init__(self, uri, user, password):\n",
        "        self.driver = GraphDatabase.driver(uri, auth=(user, password))\n",
        "\n",
        "    def close(self):\n",
        "          self.driver.close()\n",
        "\n",
        "    def trade(self, p1, p2, p3, p4, p5, p6, p7, p8, p9, p10, p11, p12):\n",
        "        with self.driver.session(database=\"neo4j\") as session:\n",
        "            session.execute_write(\n",
        "                self.load_trade, p1, p2, p3, p4, p5, p6, p7, p8, p9, p10, p11, p12)\n",
        "\n",
        "    @staticmethod\n",
        "    def load_trade(tx, p1, p2, p3, p4, p5, p6, p7, p8, p9, p10, p11, p12):\n",
        "\n",
        "        query1=(\n",
        "            \"MERGE (p1:Trade { tradeID: $p1 }) ON CREATE SET p1.tradedValue = $p6 \"\n",
        "            \"MERGE (p4:Year { year: $p4 })\"\n",
        "            \"MERGE (p5:Currency { Currency: $p5 })\"\n",
        "            \"MERGE (p8:Product { productID: $p8 }) ON CREATE SET p8.product=$p7 \"\n",
        "            \"MERGE (p10:Category { categoryID: $p10}) ON CREATE SET p10.Category = $p9 \"\n",
        "        )\n",
        "\n",
        "        query2=(\n",
        "            \"MERGE (p12:Section { sectionID: $p12}) ON CREATE SET p12.section = $p11 \"\n",
        "        )\n",
        "\n",
        "        tx.run(query1, p1=p1, p2=p2, p3=p3, p4=p4, p5=p5, p6=p6, p7=p7, p8=p8, p9=p9, p10=p10, p11=p11, p12=p12)\n",
        "        tx.run(query2, p1=p1, p2=p2, p3=p3, p4=p4, p5=p5, p6=p6, p7=p7, p8=p8, p9=p9, p10=p10, p11=p11, p12=p12)\n",
        "\n",
        "    def trade_rel(self, p1, p2, p3, p4, p5, p6, p7, p8, p9, p10, p11, p12):\n",
        "        with self.driver.session(database=\"neo4j\") as session:\n",
        "            session.execute_write(\n",
        "                self.load_trade_rel, p1, p2, p3, p4, p5, p6, p7, p8, p9, p10, p11, p12)\n",
        "\n",
        "    @staticmethod\n",
        "    def load_trade_rel(tx, p1, p2, p3, p4, p5, p6, p7, p8, p9, p10, p11, p12):\n",
        "\n",
        "        query3=(\n",
        "            \"MATCH (p1:Trade { tradeID: $p1 }), (p2:Country { countryID: $p2 }) \"\n",
        "            \"MERGE (p1)-[:exportedFrom]->(p2) \"\n",
        "            )\n",
        "\n",
        "        query4=(\n",
        "            \"MATCH (p1:Trade { tradeID: $p1 }), (p3:Country { countryID: $p3 }) \"\n",
        "            \"MERGE (p1)-[:exportedTo]->(p3) \"\n",
        "            )\n",
        "\n",
        "        query5=(\n",
        "            \"MATCH (p1:Trade { tradeID: $p1 }), (p4:Year { year: $p4 }) \"\n",
        "            \"MERGE (p1)-[:tradedYear]->(p4) \"\n",
        "            )\n",
        "\n",
        "        query6=(\n",
        "            \"MATCH (p1:Trade { tradeID: $p1 }), (p5:Currency { Currency: $p5 }) \"\n",
        "            \"MERGE (p1)-[:tradedCurrency]->(p5) \"\n",
        "            )\n",
        "\n",
        "        query7=(\n",
        "            \"MATCH (p1:Trade { tradeID: $p1 }), (p8:Product { productID: $p8 }) \"\n",
        "            \"MERGE (p1)-[:tradedProduct]->(p8) \"\n",
        "            )\n",
        "\n",
        "        query8=(\n",
        "            \"MATCH (p8:Product { productID: $p8 }), (p10:Category { categoryID: $p10 }) \"\n",
        "            \"MERGE (p8)-[:hasCategory]->(p10) \"\n",
        "            )\n",
        "\n",
        "        query9=(\n",
        "            \"MATCH (p12:Section { sectionID: $p12}), (p10:Category { categoryID: $p10 }) \"\n",
        "            \"MERGE (p10)-[:hasSection]->(p12) \"\n",
        "            )\n",
        "\n",
        "        tx.run(query3, p1=p1, p2=p2, p3=p3, p4=p4, p5=p5, p6=p6, p7=p7, p8=p8, p9=p9, p10=p10, p11=p11, p12=p12)\n",
        "        tx.run(query4, p1=p1, p2=p2, p3=p3, p4=p4, p5=p5, p6=p6, p7=p7, p8=p8, p9=p9, p10=p10, p11=p11, p12=p12)\n",
        "        tx.run(query5, p1=p1, p2=p2, p3=p3, p4=p4, p5=p5, p6=p6, p7=p7, p8=p8, p9=p9, p10=p10, p11=p11, p12=p12)\n",
        "        # tx.run(query6, p1=p1, p2=p2, p3=p3, p4=p4, p5=p5, p6=p6, p7=p7, p8=p8, p9=p9, p10=p10, p11=p11, p12=p12)\n",
        "        tx.run(query7, p1=p1, p2=p2, p3=p3, p4=p4, p5=p5, p6=p6, p7=p7, p8=p8, p9=p9, p10=p10, p11=p11, p12=p12)\n",
        "        tx.run(query8, p1=p1, p2=p2, p3=p3, p4=p4, p5=p5, p6=p6, p7=p7, p8=p8, p9=p9, p10=p10, p11=p11, p12=p12)\n",
        "        tx.run(query9, p1=p1, p2=p2, p3=p3, p4=p4, p5=p5, p6=p6, p7=p7, p8=p8, p9=p9, p10=p10, p11=p11, p12=p12)\n",
        "        \n",
        "\n",
        "    def FTA(self, p1, p2, p3, p4, p5, p6):\n",
        "        with self.driver.session(database=\"neo4j\") as session:\n",
        "            session.execute_write(\n",
        "                self.load_fta, p1, p2, p3, p4, p5, p6)\n",
        "\n",
        "    @staticmethod\n",
        "    def load_fta(tx, p1, p2, p3, p4, p5, p6):\n",
        "\n",
        "        query1 = (\n",
        "            \"MERGE (p1:FTA { ftaID: $p1 }) ON CREATE SET p1.has_fta = $p2, p1.signed_date=$p3, p1.date_inforce=$p4 \"\n",
        "        )\n",
        "\n",
        "        query2=(\n",
        "            \"MATCH (p1:FTA { ftaID: $p1 }), (p5:Country { countryID: $p5 }) \"\n",
        "            \"MERGE (p1)-[:hasFTA]->(p5) \"\n",
        "            )\n",
        "        query3 = (\n",
        "            \"MATCH (p6:Country { countryID: $p6 }), (p1:FTA { ftaID: $p1 }) MERGE (p1)-[:hasFTA]->(p6) \"\n",
        "        )\n",
        "\n",
        "        tx.run(query1, p1=p1, p2=p2, p3=p3, p4=p4, p5=p5, p6=p6)\n",
        "        tx.run(query2, p1=p1, p2=p2, p3=p3, p4=p4, p5=p5, p6=p6)\n",
        "        tx.run(query3, p1=p1, p2=p2, p3=p3, p4=p4, p5=p5, p6=p6)\n",
        "\n",
        "    def create_country_node(self, row, has_fta):\n",
        "        with self.driver.session(database=\"neo4j\") as session:\n",
        "            session.execute_write(self._create_country_node, row, has_fta)\n",
        "\n",
        "    \n",
        "\n",
        "    @staticmethod\n",
        "    def _create_country_node(tx, row, has_fta):\n",
        "        query=(get_query(row))\n",
        "        tx.run((query), n1=row['country_code'], n2=row['country'], npopulation=row['population'],\n",
        "                n4=row['signed_year'], n5=row['inforced_year'],\n",
        "                ngdp_1960=row['gdp_1960'],  ngdp_1961=row['gdp_1961'],  ngdp_1962=row['gdp_1962'],  ngdp_1963=row['gdp_1963'],  ngdp_1964=row['gdp_1964'],  ngdp_1965=row['gdp_1965'],\n",
        "                ngdp_1966=row['gdp_1966'],  ngdp_1967=row['gdp_1967'],  ngdp_1968=row['gdp_1968'],  ngdp_1969=row['gdp_1969'],  ngdp_1970=row['gdp_1970'],  ngdp_1971=row['gdp_1971'],\n",
        "                ngdp_1972=row['gdp_1972'],  ngdp_1973=row['gdp_1973'],  ngdp_1974=row['gdp_1974'],  ngdp_1975=row['gdp_1975'],  ngdp_1976=row['gdp_1976'],  ngdp_1977=row['gdp_1977'], \n",
        "                ngdp_1978=row['gdp_1978'],  ngdp_1979=row['gdp_1979'],  ngdp_1980=row['gdp_1980'],  ngdp_1981=row['gdp_1981'],  ngdp_1982=row['gdp_1982'],  ngdp_1983=row['gdp_1983'], \n",
        "                ngdp_1984=row['gdp_1984'],  ngdp_1985=row['gdp_1985'],  ngdp_1986=row['gdp_1986'],  ngdp_1987=row['gdp_1987'],  ngdp_1988=row['gdp_1988'],  ngdp_1989=row['gdp_1989'],\n",
        "                ngdp_1990=row['gdp_1990'],  ngdp_1991=row['gdp_1991'],  ngdp_1992=row['gdp_1992'],  ngdp_1993=row['gdp_1993'],  ngdp_1994=row['gdp_1994'],  ngdp_1995=row['gdp_1995'], \n",
        "                ngdp_1996=row['gdp_1996'],  ngdp_1997=row['gdp_1997'],  ngdp_1998=row['gdp_1998'],  ngdp_1999=row['gdp_1999'],  ngdp_2000=row['gdp_2000'],  ngdp_2001=row['gdp_2001'],\n",
        "                ngdp_2002=row['gdp_2002'],  ngdp_2003=row['gdp_2003'],  ngdp_2004=row['gdp_2004'],  ngdp_2005=row['gdp_2005'],  ngdp_2006=row['gdp_2006'],  ngdp_2007=row['gdp_2007'],\n",
        "                ngdp_2008=row['gdp_2008'],  ngdp_2009=row['gdp_2009'],  ngdp_2010=row['gdp_2010'],  ngdp_2011=row['gdp_2011'],  ngdp_2012=row['gdp_2012'],  ngdp_2013=row['gdp_2013'],\n",
        "                ngdp_2014=row['gdp_2014'],  ngdp_2015=row['gdp_2015'],  ngdp_2016=row['gdp_2016'],  ngdp_2017=row['gdp_2017'],  ngdp_2018=row['gdp_2018'],  ngdp_2019=row['gdp_2019'],\n",
        "                ngdp_2020=row['gdp_2020'],  ngdp_2021=row['gdp_2021']  )\n"
      ]
    },
    {
      "cell_type": "code",
      "execution_count": 71,
      "metadata": {
        "colab": {
          "base_uri": "https://localhost:8080/",
          "height": 205
        },
        "id": "q2hfwxJN18zT",
        "outputId": "ec70cc11-9b6b-41bb-f669-700f23728a9f"
      },
      "outputs": [],
      "source": [
        "df['signed_date'].fillna(value=pd.to_datetime('12/31/2030'), inplace=True)\n",
        "df['signed_year'] = pd.DatetimeIndex(df['signed_date']).year\n",
        "df['date_inforce'].fillna(value=pd.to_datetime('12/31/2030'), inplace=True)\n",
        "df['inforced_year'] = pd.DatetimeIndex(df['date_inforce']).year\n",
        "df['country_code']=df['country_code'].str.lower()\n",
        "df['FTA_id']=\"fta_\"+df['FTA_id'].astype(str)\n",
        "# df.head(2)"
      ]
    },
    {
      "cell_type": "code",
      "execution_count": 72,
      "metadata": {},
      "outputs": [],
      "source": [
        "df_trades['trade_id'] = df_trades['trade_id'].str.replace('ported','')\n",
        "df_trades['trade_id'] = df_trades['trade_id'].str.lower()\n",
        "# df_trades.head(5)"
      ]
    },
    {
      "cell_type": "code",
      "execution_count": 73,
      "metadata": {},
      "outputs": [
        {
          "data": {
            "text/plain": [
              "22"
            ]
          },
          "execution_count": 73,
          "metadata": {},
          "output_type": "execute_result"
        }
      ],
      "source": [
        "selected_countries=['are', 'aus', 'bhr', 'can', 'col', 'cri', 'dom', 'gha', 'gtm', 'hnd', 'idn', 'isr', 'kor', 'mar', 'mex', 'mus', 'omn', 'pan', 'per', 'sgp', 'slv', 'tha']\n",
        "len(selected_countries)"
      ]
    },
    {
      "cell_type": "code",
      "execution_count": 75,
      "metadata": {},
      "outputs": [
        {
          "data": {
            "text/plain": [
              "array(['aus', 'bhr', 'can', 'col', 'cri', 'dom', 'slv', 'gha', 'gtm',\n",
              "       'hnd', 'idn', 'isr', 'kor', 'mus', 'mex', 'mar', 'omn', 'pan',\n",
              "       'per', 'sgp', 'tha', 'are'], dtype=object)"
            ]
          },
          "execution_count": 75,
          "metadata": {},
          "output_type": "execute_result"
        }
      ],
      "source": [
        "# df=df[(df.country_code.isin(['usa','are','gha','tha','mus','idn'])) | (df.has_fta.isin([True])) ]\n",
        "# shortlisted_country=df[~df.country_code.isin(['usa'])]['country_code']\n",
        "# print(len(shortlisted_country),list(shortlisted_country))\n",
        "# exports_year_sl=[ 2015,2016,2017,2018,2019,2020]\n",
        "# df_trades=df_trades[df_trades.exports_year.isin(exports_year_sl)]\n",
        "df_trades_imports=df_trades[df_trades.exports_to.isin(list(selected_countries))]\n",
        "df_trades_exports=df_trades[df_trades.exports_from.isin(list(selected_countries))]\n",
        "df_trades=pd.concat([df_trades_imports,df_trades_exports])\n",
        "# df_trades=df_trades[(df_trades.exports_to.isin(list(selected_countries)) | df_trades.exports_from.isin(list(selected_countries)))]\n",
        "\n",
        "# print(df_trades.shape)\n",
        "df_trades_imports.exports_to.unique()\n"
      ]
    },
    {
      "cell_type": "code",
      "execution_count": 79,
      "metadata": {},
      "outputs": [
        {
          "data": {
            "text/plain": [
              "(['are',\n",
              "  'aus',\n",
              "  'bhr',\n",
              "  'can',\n",
              "  'col',\n",
              "  'cri',\n",
              "  'dom',\n",
              "  'gha',\n",
              "  'gtm',\n",
              "  'hnd',\n",
              "  'idn',\n",
              "  'isr',\n",
              "  'kor',\n",
              "  'mar',\n",
              "  'mex',\n",
              "  'mus',\n",
              "  'omn',\n",
              "  'pan',\n",
              "  'per',\n",
              "  'slv',\n",
              "  'tha'],\n",
              " 21)"
            ]
          },
          "execution_count": 79,
          "metadata": {},
          "output_type": "execute_result"
        }
      ],
      "source": [
        "sorted(df_trades_exports.exports_from.unique()),len(df_trades_exports.exports_from.unique())\n"
      ]
    },
    {
      "cell_type": "code",
      "execution_count": 77,
      "metadata": {},
      "outputs": [
        {
          "data": {
            "text/plain": [
              "(array(['aus', 'bhr', 'can', 'col', 'cri', 'dom', 'slv', 'gha', 'gtm',\n",
              "        'hnd', 'idn', 'isr', 'kor', 'mus', 'mex', 'mar', 'omn', 'pan',\n",
              "        'per', 'sgp', 'tha', 'are'], dtype=object),\n",
              " 22)"
            ]
          },
          "execution_count": 77,
          "metadata": {},
          "output_type": "execute_result"
        }
      ],
      "source": [
        "df_trades_imports.exports_to.unique(),len(df_trades_imports.exports_to.unique())\n"
      ]
    },
    {
      "cell_type": "code",
      "execution_count": null,
      "metadata": {},
      "outputs": [],
      "source": [
        "len(df_trades), len(df_trades_exports), len(df_trades_imports)\n",
        "df_trades.tail()"
      ]
    },
    {
      "cell_type": "code",
      "execution_count": 53,
      "metadata": {},
      "outputs": [
        {
          "data": {
            "text/plain": [
              "(array(['usa', 'aus', 'bhr', 'can', 'col', 'cri', 'dom', 'slv', 'gtm',\n",
              "        'hnd', 'idn', 'isr', 'kor', 'mus', 'mar', 'omn', 'pan', 'per',\n",
              "        'tha', 'are'], dtype=object),\n",
              " 20)"
            ]
          },
          "execution_count": 53,
          "metadata": {},
          "output_type": "execute_result"
        }
      ],
      "source": [
        "df_trades['exports_from'].unique(),len(df_trades['exports_from'].unique())\n"
      ]
    },
    {
      "cell_type": "code",
      "execution_count": 54,
      "metadata": {},
      "outputs": [
        {
          "data": {
            "text/plain": [
              "(array(['can', 'col', 'dom', 'slv', 'gha', 'gtm', 'hnd', 'idn', 'isr',\n",
              "        'kor', 'mus', 'mex', 'mar', 'omn', 'pan', 'per', 'sgp', 'tha',\n",
              "        'are', 'usa'], dtype=object),\n",
              " 20)"
            ]
          },
          "execution_count": 54,
          "metadata": {},
          "output_type": "execute_result"
        }
      ],
      "source": [
        "df_trades['exports_to'].unique(),len(df_trades['exports_to'].unique())"
      ]
    },
    {
      "cell_type": "code",
      "execution_count": 55,
      "metadata": {},
      "outputs": [
        {
          "data": {
            "text/plain": [
              "usa    109446\n",
              "can      7111\n",
              "kor      6288\n",
              "tha      5967\n",
              "aus      5808\n",
              "isr      5349\n",
              "idn      5004\n",
              "col      4766\n",
              "are      4664\n",
              "per      4556\n",
              "cri      4446\n",
              "gtm      3873\n",
              "hnd      3577\n",
              "slv      3188\n",
              "pan      2713\n",
              "mar      2611\n",
              "dom      2570\n",
              "bhr      1503\n",
              "mus      1178\n",
              "omn      1092\n",
              "Name: exports_from, dtype: int64"
            ]
          },
          "execution_count": 55,
          "metadata": {},
          "output_type": "execute_result"
        }
      ],
      "source": [
        "df_trades['exports_from'].value_counts()"
      ]
    },
    {
      "cell_type": "code",
      "execution_count": 56,
      "metadata": {
        "id": "czTezwma3PPu"
      },
      "outputs": [
        {
          "name": "stderr",
          "output_type": "stream",
          "text": [
            "Failed to write data to connection ResolvedIPv4Address(('34.66.78.163', 7687)) (IPv4Address(('34.66.78.163', 7687)))\n",
            "Failed to write data to connection IPv4Address(('50728551.databases.neo4j.io', 7687)) (IPv4Address(('34.66.78.163', 7687)))\n"
          ]
        },
        {
          "ename": "BufferError",
          "evalue": "Existing exports of data: object cannot be re-sized",
          "output_type": "error",
          "traceback": [
            "\u001b[1;31m---------------------------------------------------------------------------\u001b[0m",
            "\u001b[1;31mKeyboardInterrupt\u001b[0m                         Traceback (most recent call last)",
            "\u001b[1;32mc:\\Users\\tejas\\OneDrive\\Documents\\DSCI 558\\Project\\04 Load data into Neo4j\\upload_neo4j_final.ipynb Cell 15\u001b[0m in \u001b[0;36mApp.create_country_node\u001b[1;34m(self, row, has_fta)\u001b[0m\n\u001b[0;32m    <a href='vscode-notebook-cell:/c%3A/Users/tejas/OneDrive/Documents/DSCI%20558/Project/04%20Load%20data%20into%20Neo4j/upload_neo4j_final.ipynb#X11sZmlsZQ%3D%3D?line=108'>109</a>\u001b[0m \u001b[39mwith\u001b[39;00m \u001b[39mself\u001b[39m\u001b[39m.\u001b[39mdriver\u001b[39m.\u001b[39msession(database\u001b[39m=\u001b[39m\u001b[39m\"\u001b[39m\u001b[39mneo4j\u001b[39m\u001b[39m\"\u001b[39m) \u001b[39mas\u001b[39;00m session:\n\u001b[1;32m--> <a href='vscode-notebook-cell:/c%3A/Users/tejas/OneDrive/Documents/DSCI%20558/Project/04%20Load%20data%20into%20Neo4j/upload_neo4j_final.ipynb#X11sZmlsZQ%3D%3D?line=109'>110</a>\u001b[0m     session\u001b[39m.\u001b[39;49mexecute_write(\u001b[39mself\u001b[39;49m\u001b[39m.\u001b[39;49m_create_country_node, row, has_fta)\n",
            "File \u001b[1;32mc:\\Python310\\lib\\site-packages\\neo4j\\_sync\\work\\session.py:704\u001b[0m, in \u001b[0;36mSession.execute_write\u001b[1;34m(self, transaction_function, *args, **kwargs)\u001b[0m\n\u001b[0;32m    667\u001b[0m \u001b[39m\"\"\"Execute a unit of work in a managed write transaction.\u001b[39;00m\n\u001b[0;32m    668\u001b[0m \n\u001b[0;32m    669\u001b[0m \u001b[39m.. note::\u001b[39;00m\n\u001b[1;32m   (...)\u001b[0m\n\u001b[0;32m    702\u001b[0m \u001b[39m.. versionadded:: 5.0\u001b[39;00m\n\u001b[0;32m    703\u001b[0m \u001b[39m\"\"\"\u001b[39;00m\n\u001b[1;32m--> 704\u001b[0m \u001b[39mreturn\u001b[39;00m \u001b[39mself\u001b[39m\u001b[39m.\u001b[39m_run_transaction(\n\u001b[0;32m    705\u001b[0m     WRITE_ACCESS, transaction_function, \u001b[39m*\u001b[39margs, \u001b[39m*\u001b[39m\u001b[39m*\u001b[39mkwargs\n\u001b[0;32m    706\u001b[0m )\n",
            "File \u001b[1;32mc:\\Python310\\lib\\site-packages\\neo4j\\_sync\\work\\session.py:483\u001b[0m, in \u001b[0;36mSession._run_transaction\u001b[1;34m(self, access_mode, transaction_function, *args, **kwargs)\u001b[0m\n\u001b[0;32m    482\u001b[0m \u001b[39mtry\u001b[39;00m:\n\u001b[1;32m--> 483\u001b[0m     result \u001b[39m=\u001b[39m transaction_function(tx, \u001b[39m*\u001b[39margs, \u001b[39m*\u001b[39m\u001b[39m*\u001b[39mkwargs)\n\u001b[0;32m    484\u001b[0m \u001b[39mexcept\u001b[39;00m asyncio\u001b[39m.\u001b[39mCancelledError:\n\u001b[0;32m    485\u001b[0m     \u001b[39m# if cancellation callback has not been called yet:\u001b[39;00m\n",
            "\u001b[1;32mc:\\Users\\tejas\\OneDrive\\Documents\\DSCI 558\\Project\\04 Load data into Neo4j\\upload_neo4j_final.ipynb Cell 15\u001b[0m in \u001b[0;36mApp._create_country_node\u001b[1;34m(tx, row, has_fta)\u001b[0m\n\u001b[0;32m    <a href='vscode-notebook-cell:/c%3A/Users/tejas/OneDrive/Documents/DSCI%20558/Project/04%20Load%20data%20into%20Neo4j/upload_neo4j_final.ipynb#X11sZmlsZQ%3D%3D?line=115'>116</a>\u001b[0m query\u001b[39m=\u001b[39m(get_query(row))\n\u001b[1;32m--> <a href='vscode-notebook-cell:/c%3A/Users/tejas/OneDrive/Documents/DSCI%20558/Project/04%20Load%20data%20into%20Neo4j/upload_neo4j_final.ipynb#X11sZmlsZQ%3D%3D?line=116'>117</a>\u001b[0m tx\u001b[39m.\u001b[39;49mrun((query), n1\u001b[39m=\u001b[39;49mrow[\u001b[39m'\u001b[39;49m\u001b[39mcountry_code\u001b[39;49m\u001b[39m'\u001b[39;49m], n2\u001b[39m=\u001b[39;49mrow[\u001b[39m'\u001b[39;49m\u001b[39mcountry\u001b[39;49m\u001b[39m'\u001b[39;49m], npopulation\u001b[39m=\u001b[39;49mrow[\u001b[39m'\u001b[39;49m\u001b[39mpopulation\u001b[39;49m\u001b[39m'\u001b[39;49m],\n\u001b[0;32m    <a href='vscode-notebook-cell:/c%3A/Users/tejas/OneDrive/Documents/DSCI%20558/Project/04%20Load%20data%20into%20Neo4j/upload_neo4j_final.ipynb#X11sZmlsZQ%3D%3D?line=117'>118</a>\u001b[0m         n4\u001b[39m=\u001b[39;49mrow[\u001b[39m'\u001b[39;49m\u001b[39msigned_year\u001b[39;49m\u001b[39m'\u001b[39;49m], n5\u001b[39m=\u001b[39;49mrow[\u001b[39m'\u001b[39;49m\u001b[39minforced_year\u001b[39;49m\u001b[39m'\u001b[39;49m],\n\u001b[0;32m    <a href='vscode-notebook-cell:/c%3A/Users/tejas/OneDrive/Documents/DSCI%20558/Project/04%20Load%20data%20into%20Neo4j/upload_neo4j_final.ipynb#X11sZmlsZQ%3D%3D?line=118'>119</a>\u001b[0m         ngdp_1960\u001b[39m=\u001b[39;49mrow[\u001b[39m'\u001b[39;49m\u001b[39mgdp_1960\u001b[39;49m\u001b[39m'\u001b[39;49m],  ngdp_1961\u001b[39m=\u001b[39;49mrow[\u001b[39m'\u001b[39;49m\u001b[39mgdp_1961\u001b[39;49m\u001b[39m'\u001b[39;49m],  ngdp_1962\u001b[39m=\u001b[39;49mrow[\u001b[39m'\u001b[39;49m\u001b[39mgdp_1962\u001b[39;49m\u001b[39m'\u001b[39;49m],  ngdp_1963\u001b[39m=\u001b[39;49mrow[\u001b[39m'\u001b[39;49m\u001b[39mgdp_1963\u001b[39;49m\u001b[39m'\u001b[39;49m],  ngdp_1964\u001b[39m=\u001b[39;49mrow[\u001b[39m'\u001b[39;49m\u001b[39mgdp_1964\u001b[39;49m\u001b[39m'\u001b[39;49m],  ngdp_1965\u001b[39m=\u001b[39;49mrow[\u001b[39m'\u001b[39;49m\u001b[39mgdp_1965\u001b[39;49m\u001b[39m'\u001b[39;49m],\n\u001b[0;32m    <a href='vscode-notebook-cell:/c%3A/Users/tejas/OneDrive/Documents/DSCI%20558/Project/04%20Load%20data%20into%20Neo4j/upload_neo4j_final.ipynb#X11sZmlsZQ%3D%3D?line=119'>120</a>\u001b[0m         ngdp_1966\u001b[39m=\u001b[39;49mrow[\u001b[39m'\u001b[39;49m\u001b[39mgdp_1966\u001b[39;49m\u001b[39m'\u001b[39;49m],  ngdp_1967\u001b[39m=\u001b[39;49mrow[\u001b[39m'\u001b[39;49m\u001b[39mgdp_1967\u001b[39;49m\u001b[39m'\u001b[39;49m],  ngdp_1968\u001b[39m=\u001b[39;49mrow[\u001b[39m'\u001b[39;49m\u001b[39mgdp_1968\u001b[39;49m\u001b[39m'\u001b[39;49m],  ngdp_1969\u001b[39m=\u001b[39;49mrow[\u001b[39m'\u001b[39;49m\u001b[39mgdp_1969\u001b[39;49m\u001b[39m'\u001b[39;49m],  ngdp_1970\u001b[39m=\u001b[39;49mrow[\u001b[39m'\u001b[39;49m\u001b[39mgdp_1970\u001b[39;49m\u001b[39m'\u001b[39;49m],  ngdp_1971\u001b[39m=\u001b[39;49mrow[\u001b[39m'\u001b[39;49m\u001b[39mgdp_1971\u001b[39;49m\u001b[39m'\u001b[39;49m],\n\u001b[0;32m    <a href='vscode-notebook-cell:/c%3A/Users/tejas/OneDrive/Documents/DSCI%20558/Project/04%20Load%20data%20into%20Neo4j/upload_neo4j_final.ipynb#X11sZmlsZQ%3D%3D?line=120'>121</a>\u001b[0m         ngdp_1972\u001b[39m=\u001b[39;49mrow[\u001b[39m'\u001b[39;49m\u001b[39mgdp_1972\u001b[39;49m\u001b[39m'\u001b[39;49m],  ngdp_1973\u001b[39m=\u001b[39;49mrow[\u001b[39m'\u001b[39;49m\u001b[39mgdp_1973\u001b[39;49m\u001b[39m'\u001b[39;49m],  ngdp_1974\u001b[39m=\u001b[39;49mrow[\u001b[39m'\u001b[39;49m\u001b[39mgdp_1974\u001b[39;49m\u001b[39m'\u001b[39;49m],  ngdp_1975\u001b[39m=\u001b[39;49mrow[\u001b[39m'\u001b[39;49m\u001b[39mgdp_1975\u001b[39;49m\u001b[39m'\u001b[39;49m],  ngdp_1976\u001b[39m=\u001b[39;49mrow[\u001b[39m'\u001b[39;49m\u001b[39mgdp_1976\u001b[39;49m\u001b[39m'\u001b[39;49m],  ngdp_1977\u001b[39m=\u001b[39;49mrow[\u001b[39m'\u001b[39;49m\u001b[39mgdp_1977\u001b[39;49m\u001b[39m'\u001b[39;49m], \n\u001b[0;32m    <a href='vscode-notebook-cell:/c%3A/Users/tejas/OneDrive/Documents/DSCI%20558/Project/04%20Load%20data%20into%20Neo4j/upload_neo4j_final.ipynb#X11sZmlsZQ%3D%3D?line=121'>122</a>\u001b[0m         ngdp_1978\u001b[39m=\u001b[39;49mrow[\u001b[39m'\u001b[39;49m\u001b[39mgdp_1978\u001b[39;49m\u001b[39m'\u001b[39;49m],  ngdp_1979\u001b[39m=\u001b[39;49mrow[\u001b[39m'\u001b[39;49m\u001b[39mgdp_1979\u001b[39;49m\u001b[39m'\u001b[39;49m],  ngdp_1980\u001b[39m=\u001b[39;49mrow[\u001b[39m'\u001b[39;49m\u001b[39mgdp_1980\u001b[39;49m\u001b[39m'\u001b[39;49m],  ngdp_1981\u001b[39m=\u001b[39;49mrow[\u001b[39m'\u001b[39;49m\u001b[39mgdp_1981\u001b[39;49m\u001b[39m'\u001b[39;49m],  ngdp_1982\u001b[39m=\u001b[39;49mrow[\u001b[39m'\u001b[39;49m\u001b[39mgdp_1982\u001b[39;49m\u001b[39m'\u001b[39;49m],  ngdp_1983\u001b[39m=\u001b[39;49mrow[\u001b[39m'\u001b[39;49m\u001b[39mgdp_1983\u001b[39;49m\u001b[39m'\u001b[39;49m], \n\u001b[0;32m    <a href='vscode-notebook-cell:/c%3A/Users/tejas/OneDrive/Documents/DSCI%20558/Project/04%20Load%20data%20into%20Neo4j/upload_neo4j_final.ipynb#X11sZmlsZQ%3D%3D?line=122'>123</a>\u001b[0m         ngdp_1984\u001b[39m=\u001b[39;49mrow[\u001b[39m'\u001b[39;49m\u001b[39mgdp_1984\u001b[39;49m\u001b[39m'\u001b[39;49m],  ngdp_1985\u001b[39m=\u001b[39;49mrow[\u001b[39m'\u001b[39;49m\u001b[39mgdp_1985\u001b[39;49m\u001b[39m'\u001b[39;49m],  ngdp_1986\u001b[39m=\u001b[39;49mrow[\u001b[39m'\u001b[39;49m\u001b[39mgdp_1986\u001b[39;49m\u001b[39m'\u001b[39;49m],  ngdp_1987\u001b[39m=\u001b[39;49mrow[\u001b[39m'\u001b[39;49m\u001b[39mgdp_1987\u001b[39;49m\u001b[39m'\u001b[39;49m],  ngdp_1988\u001b[39m=\u001b[39;49mrow[\u001b[39m'\u001b[39;49m\u001b[39mgdp_1988\u001b[39;49m\u001b[39m'\u001b[39;49m],  ngdp_1989\u001b[39m=\u001b[39;49mrow[\u001b[39m'\u001b[39;49m\u001b[39mgdp_1989\u001b[39;49m\u001b[39m'\u001b[39;49m],\n\u001b[0;32m    <a href='vscode-notebook-cell:/c%3A/Users/tejas/OneDrive/Documents/DSCI%20558/Project/04%20Load%20data%20into%20Neo4j/upload_neo4j_final.ipynb#X11sZmlsZQ%3D%3D?line=123'>124</a>\u001b[0m         ngdp_1990\u001b[39m=\u001b[39;49mrow[\u001b[39m'\u001b[39;49m\u001b[39mgdp_1990\u001b[39;49m\u001b[39m'\u001b[39;49m],  ngdp_1991\u001b[39m=\u001b[39;49mrow[\u001b[39m'\u001b[39;49m\u001b[39mgdp_1991\u001b[39;49m\u001b[39m'\u001b[39;49m],  ngdp_1992\u001b[39m=\u001b[39;49mrow[\u001b[39m'\u001b[39;49m\u001b[39mgdp_1992\u001b[39;49m\u001b[39m'\u001b[39;49m],  ngdp_1993\u001b[39m=\u001b[39;49mrow[\u001b[39m'\u001b[39;49m\u001b[39mgdp_1993\u001b[39;49m\u001b[39m'\u001b[39;49m],  ngdp_1994\u001b[39m=\u001b[39;49mrow[\u001b[39m'\u001b[39;49m\u001b[39mgdp_1994\u001b[39;49m\u001b[39m'\u001b[39;49m],  ngdp_1995\u001b[39m=\u001b[39;49mrow[\u001b[39m'\u001b[39;49m\u001b[39mgdp_1995\u001b[39;49m\u001b[39m'\u001b[39;49m], \n\u001b[0;32m    <a href='vscode-notebook-cell:/c%3A/Users/tejas/OneDrive/Documents/DSCI%20558/Project/04%20Load%20data%20into%20Neo4j/upload_neo4j_final.ipynb#X11sZmlsZQ%3D%3D?line=124'>125</a>\u001b[0m         ngdp_1996\u001b[39m=\u001b[39;49mrow[\u001b[39m'\u001b[39;49m\u001b[39mgdp_1996\u001b[39;49m\u001b[39m'\u001b[39;49m],  ngdp_1997\u001b[39m=\u001b[39;49mrow[\u001b[39m'\u001b[39;49m\u001b[39mgdp_1997\u001b[39;49m\u001b[39m'\u001b[39;49m],  ngdp_1998\u001b[39m=\u001b[39;49mrow[\u001b[39m'\u001b[39;49m\u001b[39mgdp_1998\u001b[39;49m\u001b[39m'\u001b[39;49m],  ngdp_1999\u001b[39m=\u001b[39;49mrow[\u001b[39m'\u001b[39;49m\u001b[39mgdp_1999\u001b[39;49m\u001b[39m'\u001b[39;49m],  ngdp_2000\u001b[39m=\u001b[39;49mrow[\u001b[39m'\u001b[39;49m\u001b[39mgdp_2000\u001b[39;49m\u001b[39m'\u001b[39;49m],  ngdp_2001\u001b[39m=\u001b[39;49mrow[\u001b[39m'\u001b[39;49m\u001b[39mgdp_2001\u001b[39;49m\u001b[39m'\u001b[39;49m],\n\u001b[0;32m    <a href='vscode-notebook-cell:/c%3A/Users/tejas/OneDrive/Documents/DSCI%20558/Project/04%20Load%20data%20into%20Neo4j/upload_neo4j_final.ipynb#X11sZmlsZQ%3D%3D?line=125'>126</a>\u001b[0m         ngdp_2002\u001b[39m=\u001b[39;49mrow[\u001b[39m'\u001b[39;49m\u001b[39mgdp_2002\u001b[39;49m\u001b[39m'\u001b[39;49m],  ngdp_2003\u001b[39m=\u001b[39;49mrow[\u001b[39m'\u001b[39;49m\u001b[39mgdp_2003\u001b[39;49m\u001b[39m'\u001b[39;49m],  ngdp_2004\u001b[39m=\u001b[39;49mrow[\u001b[39m'\u001b[39;49m\u001b[39mgdp_2004\u001b[39;49m\u001b[39m'\u001b[39;49m],  ngdp_2005\u001b[39m=\u001b[39;49mrow[\u001b[39m'\u001b[39;49m\u001b[39mgdp_2005\u001b[39;49m\u001b[39m'\u001b[39;49m],  ngdp_2006\u001b[39m=\u001b[39;49mrow[\u001b[39m'\u001b[39;49m\u001b[39mgdp_2006\u001b[39;49m\u001b[39m'\u001b[39;49m],  ngdp_2007\u001b[39m=\u001b[39;49mrow[\u001b[39m'\u001b[39;49m\u001b[39mgdp_2007\u001b[39;49m\u001b[39m'\u001b[39;49m],\n\u001b[0;32m    <a href='vscode-notebook-cell:/c%3A/Users/tejas/OneDrive/Documents/DSCI%20558/Project/04%20Load%20data%20into%20Neo4j/upload_neo4j_final.ipynb#X11sZmlsZQ%3D%3D?line=126'>127</a>\u001b[0m         ngdp_2008\u001b[39m=\u001b[39;49mrow[\u001b[39m'\u001b[39;49m\u001b[39mgdp_2008\u001b[39;49m\u001b[39m'\u001b[39;49m],  ngdp_2009\u001b[39m=\u001b[39;49mrow[\u001b[39m'\u001b[39;49m\u001b[39mgdp_2009\u001b[39;49m\u001b[39m'\u001b[39;49m],  ngdp_2010\u001b[39m=\u001b[39;49mrow[\u001b[39m'\u001b[39;49m\u001b[39mgdp_2010\u001b[39;49m\u001b[39m'\u001b[39;49m],  ngdp_2011\u001b[39m=\u001b[39;49mrow[\u001b[39m'\u001b[39;49m\u001b[39mgdp_2011\u001b[39;49m\u001b[39m'\u001b[39;49m],  ngdp_2012\u001b[39m=\u001b[39;49mrow[\u001b[39m'\u001b[39;49m\u001b[39mgdp_2012\u001b[39;49m\u001b[39m'\u001b[39;49m],  ngdp_2013\u001b[39m=\u001b[39;49mrow[\u001b[39m'\u001b[39;49m\u001b[39mgdp_2013\u001b[39;49m\u001b[39m'\u001b[39;49m],\n\u001b[0;32m    <a href='vscode-notebook-cell:/c%3A/Users/tejas/OneDrive/Documents/DSCI%20558/Project/04%20Load%20data%20into%20Neo4j/upload_neo4j_final.ipynb#X11sZmlsZQ%3D%3D?line=127'>128</a>\u001b[0m         ngdp_2014\u001b[39m=\u001b[39;49mrow[\u001b[39m'\u001b[39;49m\u001b[39mgdp_2014\u001b[39;49m\u001b[39m'\u001b[39;49m],  ngdp_2015\u001b[39m=\u001b[39;49mrow[\u001b[39m'\u001b[39;49m\u001b[39mgdp_2015\u001b[39;49m\u001b[39m'\u001b[39;49m],  ngdp_2016\u001b[39m=\u001b[39;49mrow[\u001b[39m'\u001b[39;49m\u001b[39mgdp_2016\u001b[39;49m\u001b[39m'\u001b[39;49m],  ngdp_2017\u001b[39m=\u001b[39;49mrow[\u001b[39m'\u001b[39;49m\u001b[39mgdp_2017\u001b[39;49m\u001b[39m'\u001b[39;49m],  ngdp_2018\u001b[39m=\u001b[39;49mrow[\u001b[39m'\u001b[39;49m\u001b[39mgdp_2018\u001b[39;49m\u001b[39m'\u001b[39;49m],  ngdp_2019\u001b[39m=\u001b[39;49mrow[\u001b[39m'\u001b[39;49m\u001b[39mgdp_2019\u001b[39;49m\u001b[39m'\u001b[39;49m],\n\u001b[0;32m    <a href='vscode-notebook-cell:/c%3A/Users/tejas/OneDrive/Documents/DSCI%20558/Project/04%20Load%20data%20into%20Neo4j/upload_neo4j_final.ipynb#X11sZmlsZQ%3D%3D?line=128'>129</a>\u001b[0m         ngdp_2020\u001b[39m=\u001b[39;49mrow[\u001b[39m'\u001b[39;49m\u001b[39mgdp_2020\u001b[39;49m\u001b[39m'\u001b[39;49m],  ngdp_2021\u001b[39m=\u001b[39;49mrow[\u001b[39m'\u001b[39;49m\u001b[39mgdp_2021\u001b[39;49m\u001b[39m'\u001b[39;49m]  )\n",
            "File \u001b[1;32mc:\\Python310\\lib\\site-packages\\neo4j\\_sync\\work\\transaction.py:152\u001b[0m, in \u001b[0;36mTransactionBase.run\u001b[1;34m(self, query, parameters, **kwparameters)\u001b[0m\n\u001b[0;32m    151\u001b[0m parameters \u001b[39m=\u001b[39m \u001b[39mdict\u001b[39m(parameters \u001b[39mor\u001b[39;00m {}, \u001b[39m*\u001b[39m\u001b[39m*\u001b[39mkwparameters)\n\u001b[1;32m--> 152\u001b[0m result\u001b[39m.\u001b[39;49m_tx_ready_run(query, parameters)\n\u001b[0;32m    154\u001b[0m \u001b[39mreturn\u001b[39;00m result\n",
            "File \u001b[1;32mc:\\Python310\\lib\\site-packages\\neo4j\\_sync\\work\\result.py:113\u001b[0m, in \u001b[0;36mResult._tx_ready_run\u001b[1;34m(self, query, parameters)\u001b[0m\n\u001b[0;32m    109\u001b[0m \u001b[39mdef\u001b[39;00m \u001b[39m_tx_ready_run\u001b[39m(\u001b[39mself\u001b[39m, query, parameters):\n\u001b[0;32m    110\u001b[0m     \u001b[39m# BEGIN+RUN does not carry any extra on the RUN message.\u001b[39;00m\n\u001b[0;32m    111\u001b[0m     \u001b[39m# BEGIN {extra}\u001b[39;00m\n\u001b[0;32m    112\u001b[0m     \u001b[39m# RUN \"query\" {parameters} {extra}\u001b[39;00m\n\u001b[1;32m--> 113\u001b[0m     \u001b[39mself\u001b[39;49m\u001b[39m.\u001b[39;49m_run(query, parameters, \u001b[39mNone\u001b[39;49;00m, \u001b[39mNone\u001b[39;49;00m, \u001b[39mNone\u001b[39;49;00m, \u001b[39mNone\u001b[39;49;00m)\n",
            "File \u001b[1;32mc:\\Python310\\lib\\site-packages\\neo4j\\_sync\\work\\result.py:159\u001b[0m, in \u001b[0;36mResult._run\u001b[1;34m(self, query, parameters, db, imp_user, access_mode, bookmarks)\u001b[0m\n\u001b[0;32m    158\u001b[0m \u001b[39mself\u001b[39m\u001b[39m.\u001b[39m_connection\u001b[39m.\u001b[39msend_all()\n\u001b[1;32m--> 159\u001b[0m \u001b[39mself\u001b[39;49m\u001b[39m.\u001b[39;49m_attach()\n",
            "File \u001b[1;32mc:\\Python310\\lib\\site-packages\\neo4j\\_sync\\work\\result.py:267\u001b[0m, in \u001b[0;36mResult._attach\u001b[1;34m(self)\u001b[0m\n\u001b[0;32m    266\u001b[0m \u001b[39mwhile\u001b[39;00m \u001b[39mself\u001b[39m\u001b[39m.\u001b[39m_attached \u001b[39mis\u001b[39;00m \u001b[39mFalse\u001b[39;00m:\n\u001b[1;32m--> 267\u001b[0m     \u001b[39mself\u001b[39;49m\u001b[39m.\u001b[39;49m_connection\u001b[39m.\u001b[39;49mfetch_message()\n",
            "File \u001b[1;32mc:\\Python310\\lib\\site-packages\\neo4j\\_sync\\io\\_common.py:180\u001b[0m, in \u001b[0;36mConnectionErrorHandler.__getattr__.<locals>.outer.<locals>.inner\u001b[1;34m(*args, **kwargs)\u001b[0m\n\u001b[0;32m    179\u001b[0m \u001b[39mtry\u001b[39;00m:\n\u001b[1;32m--> 180\u001b[0m     func(\u001b[39m*\u001b[39margs, \u001b[39m*\u001b[39m\u001b[39m*\u001b[39mkwargs)\n\u001b[0;32m    181\u001b[0m \u001b[39mexcept\u001b[39;00m (Neo4jError, ServiceUnavailable, SessionExpired) \u001b[39mas\u001b[39;00m exc:\n",
            "File \u001b[1;32mc:\\Python310\\lib\\site-packages\\neo4j\\_sync\\io\\_bolt.py:652\u001b[0m, in \u001b[0;36mBolt.fetch_message\u001b[1;34m(self)\u001b[0m\n\u001b[0;32m    651\u001b[0m \u001b[39m# Receive exactly one message\u001b[39;00m\n\u001b[1;32m--> 652\u001b[0m tag, fields \u001b[39m=\u001b[39m \u001b[39mself\u001b[39;49m\u001b[39m.\u001b[39;49minbox\u001b[39m.\u001b[39;49mpop(\n\u001b[0;32m    653\u001b[0m     hydration_hooks\u001b[39m=\u001b[39;49m\u001b[39mself\u001b[39;49m\u001b[39m.\u001b[39;49mresponses[\u001b[39m0\u001b[39;49m]\u001b[39m.\u001b[39;49mhydration_hooks\n\u001b[0;32m    654\u001b[0m )\n\u001b[0;32m    655\u001b[0m res \u001b[39m=\u001b[39m \u001b[39mself\u001b[39m\u001b[39m.\u001b[39m_process_message(tag, fields)\n",
            "File \u001b[1;32mc:\\Python310\\lib\\site-packages\\neo4j\\_sync\\io\\_common.py:74\u001b[0m, in \u001b[0;36mInbox.pop\u001b[1;34m(self, hydration_hooks)\u001b[0m\n\u001b[0;32m     73\u001b[0m \u001b[39mdef\u001b[39;00m \u001b[39mpop\u001b[39m(\u001b[39mself\u001b[39m, hydration_hooks):\n\u001b[1;32m---> 74\u001b[0m     \u001b[39mself\u001b[39;49m\u001b[39m.\u001b[39;49m_buffer_one_chunk()\n\u001b[0;32m     75\u001b[0m     \u001b[39mtry\u001b[39;00m:\n",
            "File \u001b[1;32mc:\\Python310\\lib\\site-packages\\neo4j\\_sync\\io\\_common.py:53\u001b[0m, in \u001b[0;36mInbox._buffer_one_chunk\u001b[1;34m(self)\u001b[0m\n\u001b[0;32m     51\u001b[0m \u001b[39mwhile\u001b[39;00m chunk_size \u001b[39m==\u001b[39m \u001b[39m0\u001b[39m:\n\u001b[0;32m     52\u001b[0m     \u001b[39m# Determine the chunk size and skip noop\u001b[39;00m\n\u001b[1;32m---> 53\u001b[0m     receive_into_buffer(\u001b[39mself\u001b[39;49m\u001b[39m.\u001b[39;49m_socket, \u001b[39mself\u001b[39;49m\u001b[39m.\u001b[39;49m_buffer, \u001b[39m2\u001b[39;49m)\n\u001b[0;32m     54\u001b[0m     chunk_size \u001b[39m=\u001b[39m \u001b[39mself\u001b[39m\u001b[39m.\u001b[39m_buffer\u001b[39m.\u001b[39mpop_u16()\n",
            "File \u001b[1;32mc:\\Python310\\lib\\site-packages\\neo4j\\_sync\\io\\_common.py:292\u001b[0m, in \u001b[0;36mreceive_into_buffer\u001b[1;34m(sock, buffer, n_bytes)\u001b[0m\n\u001b[0;32m    291\u001b[0m \u001b[39mwhile\u001b[39;00m buffer\u001b[39m.\u001b[39mused \u001b[39m<\u001b[39m end:\n\u001b[1;32m--> 292\u001b[0m     n \u001b[39m=\u001b[39m sock\u001b[39m.\u001b[39;49mrecv_into(view[buffer\u001b[39m.\u001b[39;49mused:end], end \u001b[39m-\u001b[39;49m buffer\u001b[39m.\u001b[39;49mused)\n\u001b[0;32m    293\u001b[0m     \u001b[39mif\u001b[39;00m n \u001b[39m==\u001b[39m \u001b[39m0\u001b[39m:\n",
            "File \u001b[1;32mc:\\Python310\\lib\\site-packages\\neo4j\\_async_compat\\network\\_bolt_socket.py:469\u001b[0m, in \u001b[0;36mBoltSocket.recv_into\u001b[1;34m(self, buffer, nbytes)\u001b[0m\n\u001b[0;32m    468\u001b[0m \u001b[39mdef\u001b[39;00m \u001b[39mrecv_into\u001b[39m(\u001b[39mself\u001b[39m, buffer, nbytes):\n\u001b[1;32m--> 469\u001b[0m     \u001b[39mreturn\u001b[39;00m \u001b[39mself\u001b[39;49m\u001b[39m.\u001b[39;49m_wait_for_io(\u001b[39mself\u001b[39;49m\u001b[39m.\u001b[39;49m_socket\u001b[39m.\u001b[39;49mrecv_into, buffer, nbytes)\n",
            "File \u001b[1;32mc:\\Python310\\lib\\site-packages\\neo4j\\_async_compat\\network\\_bolt_socket.py:444\u001b[0m, in \u001b[0;36mBoltSocket._wait_for_io\u001b[1;34m(self, func, *args, **kwargs)\u001b[0m\n\u001b[0;32m    443\u001b[0m \u001b[39mif\u001b[39;00m \u001b[39mself\u001b[39m\u001b[39m.\u001b[39m_deadline \u001b[39mis\u001b[39;00m \u001b[39mNone\u001b[39;00m:\n\u001b[1;32m--> 444\u001b[0m     \u001b[39mreturn\u001b[39;00m func(\u001b[39m*\u001b[39margs, \u001b[39m*\u001b[39m\u001b[39m*\u001b[39mkwargs)\n\u001b[0;32m    445\u001b[0m timeout \u001b[39m=\u001b[39m \u001b[39mself\u001b[39m\u001b[39m.\u001b[39m_socket\u001b[39m.\u001b[39mgettimeout()\n",
            "File \u001b[1;32mc:\\Python310\\lib\\ssl.py:1274\u001b[0m, in \u001b[0;36mSSLSocket.recv_into\u001b[1;34m(self, buffer, nbytes, flags)\u001b[0m\n\u001b[0;32m   1271\u001b[0m         \u001b[39mraise\u001b[39;00m \u001b[39mValueError\u001b[39;00m(\n\u001b[0;32m   1272\u001b[0m           \u001b[39m\"\u001b[39m\u001b[39mnon-zero flags not allowed in calls to recv_into() on \u001b[39m\u001b[39m%s\u001b[39;00m\u001b[39m\"\u001b[39m \u001b[39m%\u001b[39m\n\u001b[0;32m   1273\u001b[0m           \u001b[39mself\u001b[39m\u001b[39m.\u001b[39m\u001b[39m__class__\u001b[39m)\n\u001b[1;32m-> 1274\u001b[0m     \u001b[39mreturn\u001b[39;00m \u001b[39mself\u001b[39;49m\u001b[39m.\u001b[39;49mread(nbytes, buffer)\n\u001b[0;32m   1275\u001b[0m \u001b[39melse\u001b[39;00m:\n",
            "File \u001b[1;32mc:\\Python310\\lib\\ssl.py:1130\u001b[0m, in \u001b[0;36mSSLSocket.read\u001b[1;34m(self, len, buffer)\u001b[0m\n\u001b[0;32m   1129\u001b[0m \u001b[39mif\u001b[39;00m buffer \u001b[39mis\u001b[39;00m \u001b[39mnot\u001b[39;00m \u001b[39mNone\u001b[39;00m:\n\u001b[1;32m-> 1130\u001b[0m     \u001b[39mreturn\u001b[39;00m \u001b[39mself\u001b[39;49m\u001b[39m.\u001b[39;49m_sslobj\u001b[39m.\u001b[39;49mread(\u001b[39mlen\u001b[39;49m, buffer)\n\u001b[0;32m   1131\u001b[0m \u001b[39melse\u001b[39;00m:\n",
            "\u001b[1;31mKeyboardInterrupt\u001b[0m: ",
            "\nDuring handling of the above exception, another exception occurred:\n",
            "\u001b[1;31mBufferError\u001b[0m                               Traceback (most recent call last)",
            "File \u001b[1;32mc:\\Python310\\lib\\site-packages\\neo4j\\_sync\\work\\transaction.py:202\u001b[0m, in \u001b[0;36mTransactionBase._rollback\u001b[1;34m(self)\u001b[0m\n\u001b[0;32m    201\u001b[0m         \u001b[39mself\u001b[39m\u001b[39m.\u001b[39m_connection\u001b[39m.\u001b[39msend_all()\n\u001b[1;32m--> 202\u001b[0m         \u001b[39mself\u001b[39;49m\u001b[39m.\u001b[39;49m_connection\u001b[39m.\u001b[39;49mfetch_all()\n\u001b[0;32m    203\u001b[0m \u001b[39mexcept\u001b[39;00m asyncio\u001b[39m.\u001b[39mCancelledError:\n",
            "File \u001b[1;32mc:\\Python310\\lib\\site-packages\\neo4j\\_sync\\io\\_bolt.py:669\u001b[0m, in \u001b[0;36mBolt.fetch_all\u001b[1;34m(self)\u001b[0m\n\u001b[0;32m    668\u001b[0m \u001b[39mwhile\u001b[39;00m \u001b[39mnot\u001b[39;00m response\u001b[39m.\u001b[39mcomplete:\n\u001b[1;32m--> 669\u001b[0m     detail_delta, summary_delta \u001b[39m=\u001b[39m \u001b[39mself\u001b[39;49m\u001b[39m.\u001b[39;49mfetch_message()\n\u001b[0;32m    670\u001b[0m     detail_count \u001b[39m+\u001b[39m\u001b[39m=\u001b[39m detail_delta\n",
            "File \u001b[1;32mc:\\Python310\\lib\\site-packages\\neo4j\\_sync\\io\\_bolt.py:652\u001b[0m, in \u001b[0;36mBolt.fetch_message\u001b[1;34m(self)\u001b[0m\n\u001b[0;32m    651\u001b[0m \u001b[39m# Receive exactly one message\u001b[39;00m\n\u001b[1;32m--> 652\u001b[0m tag, fields \u001b[39m=\u001b[39m \u001b[39mself\u001b[39;49m\u001b[39m.\u001b[39;49minbox\u001b[39m.\u001b[39;49mpop(\n\u001b[0;32m    653\u001b[0m     hydration_hooks\u001b[39m=\u001b[39;49m\u001b[39mself\u001b[39;49m\u001b[39m.\u001b[39;49mresponses[\u001b[39m0\u001b[39;49m]\u001b[39m.\u001b[39;49mhydration_hooks\n\u001b[0;32m    654\u001b[0m )\n\u001b[0;32m    655\u001b[0m res \u001b[39m=\u001b[39m \u001b[39mself\u001b[39m\u001b[39m.\u001b[39m_process_message(tag, fields)\n",
            "File \u001b[1;32mc:\\Python310\\lib\\site-packages\\neo4j\\_sync\\io\\_common.py:74\u001b[0m, in \u001b[0;36mInbox.pop\u001b[1;34m(self, hydration_hooks)\u001b[0m\n\u001b[0;32m     73\u001b[0m \u001b[39mdef\u001b[39;00m \u001b[39mpop\u001b[39m(\u001b[39mself\u001b[39m, hydration_hooks):\n\u001b[1;32m---> 74\u001b[0m     \u001b[39mself\u001b[39;49m\u001b[39m.\u001b[39;49m_buffer_one_chunk()\n\u001b[0;32m     75\u001b[0m     \u001b[39mtry\u001b[39;00m:\n",
            "File \u001b[1;32mc:\\Python310\\lib\\site-packages\\neo4j\\_sync\\io\\_common.py:58\u001b[0m, in \u001b[0;36mInbox._buffer_one_chunk\u001b[1;34m(self)\u001b[0m\n\u001b[0;32m     56\u001b[0m         log\u001b[39m.\u001b[39mdebug(\u001b[39m\"\u001b[39m\u001b[39m[#\u001b[39m\u001b[39m%04X\u001b[39;00m\u001b[39m]  S: <NOOP>\u001b[39m\u001b[39m\"\u001b[39m, \u001b[39mself\u001b[39m\u001b[39m.\u001b[39m_local_port)\n\u001b[1;32m---> 58\u001b[0m receive_into_buffer(\n\u001b[0;32m     59\u001b[0m     \u001b[39mself\u001b[39;49m\u001b[39m.\u001b[39;49m_socket, \u001b[39mself\u001b[39;49m\u001b[39m.\u001b[39;49m_buffer, chunk_size \u001b[39m+\u001b[39;49m \u001b[39m2\u001b[39;49m\n\u001b[0;32m     60\u001b[0m )\n\u001b[0;32m     61\u001b[0m chunk_size \u001b[39m=\u001b[39m \u001b[39mself\u001b[39m\u001b[39m.\u001b[39m_buffer\u001b[39m.\u001b[39mpop_u16()\n",
            "File \u001b[1;32mc:\\Python310\\lib\\site-packages\\neo4j\\_sync\\io\\_common.py:289\u001b[0m, in \u001b[0;36mreceive_into_buffer\u001b[1;34m(sock, buffer, n_bytes)\u001b[0m\n\u001b[0;32m    288\u001b[0m \u001b[39mif\u001b[39;00m end \u001b[39m>\u001b[39m \u001b[39mlen\u001b[39m(buffer\u001b[39m.\u001b[39mdata):\n\u001b[1;32m--> 289\u001b[0m     buffer\u001b[39m.\u001b[39mdata \u001b[39m+\u001b[39m\u001b[39m=\u001b[39m \u001b[39mbytearray\u001b[39m(end \u001b[39m-\u001b[39m \u001b[39mlen\u001b[39m(buffer\u001b[39m.\u001b[39mdata))\n\u001b[0;32m    290\u001b[0m \u001b[39mwith\u001b[39;00m \u001b[39mmemoryview\u001b[39m(buffer\u001b[39m.\u001b[39mdata) \u001b[39mas\u001b[39;00m view:\n",
            "\u001b[1;31mBufferError\u001b[0m: Existing exports of data: object cannot be re-sized",
            "\nDuring handling of the above exception, another exception occurred:\n",
            "\u001b[1;31mBufferError\u001b[0m                               Traceback (most recent call last)",
            "\u001b[1;32mc:\\Users\\tejas\\OneDrive\\Documents\\DSCI 558\\Project\\04 Load data into Neo4j\\upload_neo4j_final.ipynb Cell 15\u001b[0m in \u001b[0;36m<cell line: 1>\u001b[1;34m()\u001b[0m\n\u001b[0;32m      <a href='vscode-notebook-cell:/c%3A/Users/tejas/OneDrive/Documents/DSCI%20558/Project/04%20Load%20data%20into%20Neo4j/upload_neo4j_final.ipynb#X11sZmlsZQ%3D%3D?line=7'>8</a>\u001b[0m \u001b[39m# df_trades=df_trades.head(25)\u001b[39;00m\n\u001b[0;32m     <a href='vscode-notebook-cell:/c%3A/Users/tejas/OneDrive/Documents/DSCI%20558/Project/04%20Load%20data%20into%20Neo4j/upload_neo4j_final.ipynb#X11sZmlsZQ%3D%3D?line=9'>10</a>\u001b[0m \u001b[39mfor\u001b[39;00m idx, row \u001b[39min\u001b[39;00m df\u001b[39m.\u001b[39miterrows():\n\u001b[0;32m     <a href='vscode-notebook-cell:/c%3A/Users/tejas/OneDrive/Documents/DSCI%20558/Project/04%20Load%20data%20into%20Neo4j/upload_neo4j_final.ipynb#X11sZmlsZQ%3D%3D?line=10'>11</a>\u001b[0m   \u001b[39m# if row['country_code']==\"usa\" or row['country_code']==\"afg\":  \u001b[39;00m\n\u001b[0;32m     <a href='vscode-notebook-cell:/c%3A/Users/tejas/OneDrive/Documents/DSCI%20558/Project/04%20Load%20data%20into%20Neo4j/upload_neo4j_final.ipynb#X11sZmlsZQ%3D%3D?line=11'>12</a>\u001b[0m   \u001b[39m#   app.create_country_node(row, False)\u001b[39;00m\n\u001b[1;32m---> <a href='vscode-notebook-cell:/c%3A/Users/tejas/OneDrive/Documents/DSCI%20558/Project/04%20Load%20data%20into%20Neo4j/upload_neo4j_final.ipynb#X11sZmlsZQ%3D%3D?line=12'>13</a>\u001b[0m   app\u001b[39m.\u001b[39;49mcreate_country_node(row, \u001b[39mFalse\u001b[39;49;00m)\n\u001b[0;32m     <a href='vscode-notebook-cell:/c%3A/Users/tejas/OneDrive/Documents/DSCI%20558/Project/04%20Load%20data%20into%20Neo4j/upload_neo4j_final.ipynb#X11sZmlsZQ%3D%3D?line=14'>15</a>\u001b[0m \u001b[39mfor\u001b[39;00m idx, row \u001b[39min\u001b[39;00m df\u001b[39m.\u001b[39miterrows():\n\u001b[0;32m     <a href='vscode-notebook-cell:/c%3A/Users/tejas/OneDrive/Documents/DSCI%20558/Project/04%20Load%20data%20into%20Neo4j/upload_neo4j_final.ipynb#X11sZmlsZQ%3D%3D?line=15'>16</a>\u001b[0m   \u001b[39m# if row['country_code']==\"usa\" or row['country_code']==\"afg\":  \u001b[39;00m\n\u001b[0;32m     <a href='vscode-notebook-cell:/c%3A/Users/tejas/OneDrive/Documents/DSCI%20558/Project/04%20Load%20data%20into%20Neo4j/upload_neo4j_final.ipynb#X11sZmlsZQ%3D%3D?line=16'>17</a>\u001b[0m   \u001b[39m#   app.FTA(row['FTA_id'], row['has_fta'], row['signed_year'],row['inforced_year'],row['country_code'],\"usa\")\u001b[39;00m\n\u001b[0;32m     <a href='vscode-notebook-cell:/c%3A/Users/tejas/OneDrive/Documents/DSCI%20558/Project/04%20Load%20data%20into%20Neo4j/upload_neo4j_final.ipynb#X11sZmlsZQ%3D%3D?line=17'>18</a>\u001b[0m   app\u001b[39m.\u001b[39mFTA(row[\u001b[39m'\u001b[39m\u001b[39mFTA_id\u001b[39m\u001b[39m'\u001b[39m], row[\u001b[39m'\u001b[39m\u001b[39mhas_fta\u001b[39m\u001b[39m'\u001b[39m], row[\u001b[39m'\u001b[39m\u001b[39msigned_year\u001b[39m\u001b[39m'\u001b[39m],row[\u001b[39m'\u001b[39m\u001b[39minforced_year\u001b[39m\u001b[39m'\u001b[39m],row[\u001b[39m'\u001b[39m\u001b[39mcountry_code\u001b[39m\u001b[39m'\u001b[39m],\u001b[39m\"\u001b[39m\u001b[39musa\u001b[39m\u001b[39m\"\u001b[39m)\n",
            "\u001b[1;32mc:\\Users\\tejas\\OneDrive\\Documents\\DSCI 558\\Project\\04 Load data into Neo4j\\upload_neo4j_final.ipynb Cell 15\u001b[0m in \u001b[0;36mApp.create_country_node\u001b[1;34m(self, row, has_fta)\u001b[0m\n\u001b[0;32m    <a href='vscode-notebook-cell:/c%3A/Users/tejas/OneDrive/Documents/DSCI%20558/Project/04%20Load%20data%20into%20Neo4j/upload_neo4j_final.ipynb#X11sZmlsZQ%3D%3D?line=107'>108</a>\u001b[0m \u001b[39mdef\u001b[39;00m \u001b[39mcreate_country_node\u001b[39m(\u001b[39mself\u001b[39m, row, has_fta):\n\u001b[1;32m--> <a href='vscode-notebook-cell:/c%3A/Users/tejas/OneDrive/Documents/DSCI%20558/Project/04%20Load%20data%20into%20Neo4j/upload_neo4j_final.ipynb#X11sZmlsZQ%3D%3D?line=108'>109</a>\u001b[0m     \u001b[39mwith\u001b[39;00m \u001b[39mself\u001b[39m\u001b[39m.\u001b[39mdriver\u001b[39m.\u001b[39msession(database\u001b[39m=\u001b[39m\u001b[39m\"\u001b[39m\u001b[39mneo4j\u001b[39m\u001b[39m\"\u001b[39m) \u001b[39mas\u001b[39;00m session:\n\u001b[0;32m    <a href='vscode-notebook-cell:/c%3A/Users/tejas/OneDrive/Documents/DSCI%20558/Project/04%20Load%20data%20into%20Neo4j/upload_neo4j_final.ipynb#X11sZmlsZQ%3D%3D?line=109'>110</a>\u001b[0m         session\u001b[39m.\u001b[39mexecute_write(\u001b[39mself\u001b[39m\u001b[39m.\u001b[39m_create_country_node, row, has_fta)\n",
            "File \u001b[1;32mc:\\Python310\\lib\\site-packages\\neo4j\\_sync\\work\\session.py:115\u001b[0m, in \u001b[0;36mSession.__exit__\u001b[1;34m(self, exception_type, exception_value, traceback)\u001b[0m\n\u001b[0;32m    113\u001b[0m         \u001b[39mreturn\u001b[39;00m\n\u001b[0;32m    114\u001b[0m     \u001b[39mself\u001b[39m\u001b[39m.\u001b[39m_state_failed \u001b[39m=\u001b[39m \u001b[39mTrue\u001b[39;00m\n\u001b[1;32m--> 115\u001b[0m \u001b[39mself\u001b[39;49m\u001b[39m.\u001b[39;49mclose()\n",
            "File \u001b[1;32mc:\\Python310\\lib\\site-packages\\neo4j\\_sync\\work\\session.py:191\u001b[0m, in \u001b[0;36mSession.close\u001b[1;34m(self)\u001b[0m\n\u001b[0;32m    188\u001b[0m \u001b[39mif\u001b[39;00m \u001b[39mself\u001b[39m\u001b[39m.\u001b[39m_transaction:\n\u001b[0;32m    189\u001b[0m     \u001b[39mif\u001b[39;00m \u001b[39mself\u001b[39m\u001b[39m.\u001b[39m_transaction\u001b[39m.\u001b[39m_closed() \u001b[39mis\u001b[39;00m \u001b[39mFalse\u001b[39;00m:\n\u001b[0;32m    190\u001b[0m         \u001b[39m# roll back the transaction if it is not closed\u001b[39;00m\n\u001b[1;32m--> 191\u001b[0m         \u001b[39mself\u001b[39;49m\u001b[39m.\u001b[39;49m_transaction\u001b[39m.\u001b[39;49m_rollback()\n\u001b[0;32m    192\u001b[0m     \u001b[39mself\u001b[39m\u001b[39m.\u001b[39m_transaction \u001b[39m=\u001b[39m \u001b[39mNone\u001b[39;00m\n\u001b[0;32m    194\u001b[0m \u001b[39mtry\u001b[39;00m:\n",
            "File \u001b[1;32mc:\\Python310\\lib\\site-packages\\neo4j\\_sync\\work\\transaction.py:208\u001b[0m, in \u001b[0;36mTransactionBase._rollback\u001b[1;34m(self)\u001b[0m\n\u001b[0;32m    206\u001b[0m \u001b[39mfinally\u001b[39;00m:\n\u001b[0;32m    207\u001b[0m     \u001b[39mself\u001b[39m\u001b[39m.\u001b[39m_closed_flag \u001b[39m=\u001b[39m \u001b[39mTrue\u001b[39;00m\n\u001b[1;32m--> 208\u001b[0m     Util\u001b[39m.\u001b[39;49mcallback(\u001b[39mself\u001b[39;49m\u001b[39m.\u001b[39;49m_on_closed)\n",
            "File \u001b[1;32mc:\\Python310\\lib\\site-packages\\neo4j\\_async_compat\\util.py:113\u001b[0m, in \u001b[0;36mUtil.callback\u001b[1;34m(cb, *args, **kwargs)\u001b[0m\n\u001b[0;32m    110\u001b[0m \u001b[39m@staticmethod\u001b[39m\n\u001b[0;32m    111\u001b[0m \u001b[39mdef\u001b[39;00m \u001b[39mcallback\u001b[39m(cb, \u001b[39m*\u001b[39margs, \u001b[39m*\u001b[39m\u001b[39m*\u001b[39mkwargs):\n\u001b[0;32m    112\u001b[0m     \u001b[39mif\u001b[39;00m callable(cb):\n\u001b[1;32m--> 113\u001b[0m         \u001b[39mreturn\u001b[39;00m cb(\u001b[39m*\u001b[39margs, \u001b[39m*\u001b[39m\u001b[39m*\u001b[39mkwargs)\n",
            "File \u001b[1;32mc:\\Python310\\lib\\site-packages\\neo4j\\_sync\\work\\session.py:378\u001b[0m, in \u001b[0;36mSession._transaction_closed_handler\u001b[1;34m(self)\u001b[0m\n\u001b[0;32m    375\u001b[0m \u001b[39mself\u001b[39m\u001b[39m.\u001b[39m_update_bookmark(\u001b[39mself\u001b[39m\u001b[39m.\u001b[39m_transaction\u001b[39m.\u001b[39m_database,\n\u001b[0;32m    376\u001b[0m                             \u001b[39mself\u001b[39m\u001b[39m.\u001b[39m_transaction\u001b[39m.\u001b[39m_bookmark)\n\u001b[0;32m    377\u001b[0m \u001b[39mself\u001b[39m\u001b[39m.\u001b[39m_transaction \u001b[39m=\u001b[39m \u001b[39mNone\u001b[39;00m\n\u001b[1;32m--> 378\u001b[0m \u001b[39mself\u001b[39;49m\u001b[39m.\u001b[39;49m_disconnect()\n",
            "File \u001b[1;32mc:\\Python310\\lib\\site-packages\\neo4j\\_sync\\work\\session.py:128\u001b[0m, in \u001b[0;36mSession._disconnect\u001b[1;34m(self, sync)\u001b[0m\n\u001b[0;32m    126\u001b[0m \u001b[39mdef\u001b[39;00m \u001b[39m_disconnect\u001b[39m(\u001b[39mself\u001b[39m, sync\u001b[39m=\u001b[39m\u001b[39mFalse\u001b[39;00m):\n\u001b[0;32m    127\u001b[0m     \u001b[39mtry\u001b[39;00m:\n\u001b[1;32m--> 128\u001b[0m         \u001b[39mreturn\u001b[39;00m \u001b[39msuper\u001b[39;49m()\u001b[39m.\u001b[39;49m_disconnect(sync\u001b[39m=\u001b[39;49msync)\n\u001b[0;32m    129\u001b[0m     \u001b[39mexcept\u001b[39;00m asyncio\u001b[39m.\u001b[39mCancelledError:\n\u001b[0;32m    130\u001b[0m         \u001b[39mself\u001b[39m\u001b[39m.\u001b[39m_handle_cancellation(message\u001b[39m=\u001b[39m\u001b[39m\"\u001b[39m\u001b[39m_disconnect\u001b[39m\u001b[39m\"\u001b[39m)\n",
            "File \u001b[1;32mc:\\Python310\\lib\\site-packages\\neo4j\\_sync\\work\\workspace.py:206\u001b[0m, in \u001b[0;36mWorkspace._disconnect\u001b[1;34m(self, sync)\u001b[0m\n\u001b[0;32m    204\u001b[0m         \u001b[39mpass\u001b[39;00m\n\u001b[0;32m    205\u001b[0m \u001b[39mif\u001b[39;00m \u001b[39mself\u001b[39m\u001b[39m.\u001b[39m_connection:\n\u001b[1;32m--> 206\u001b[0m     \u001b[39mself\u001b[39;49m\u001b[39m.\u001b[39;49m_pool\u001b[39m.\u001b[39;49mrelease(\u001b[39mself\u001b[39;49m\u001b[39m.\u001b[39;49m_connection)\n\u001b[0;32m    207\u001b[0m     \u001b[39mself\u001b[39m\u001b[39m.\u001b[39m_connection \u001b[39m=\u001b[39m \u001b[39mNone\u001b[39;00m\n\u001b[0;32m    208\u001b[0m \u001b[39mself\u001b[39m\u001b[39m.\u001b[39m_connection_access_mode \u001b[39m=\u001b[39m \u001b[39mNone\u001b[39;00m\n",
            "File \u001b[1;32mc:\\Python310\\lib\\site-packages\\neo4j\\_sync\\io\\_pool.py:273\u001b[0m, in \u001b[0;36mIOPool.release\u001b[1;34m(self, *connections)\u001b[0m\n\u001b[0;32m    268\u001b[0m \u001b[39mtry\u001b[39;00m:\n\u001b[0;32m    269\u001b[0m     log\u001b[39m.\u001b[39mdebug(\n\u001b[0;32m    270\u001b[0m         \u001b[39m\"\u001b[39m\u001b[39m[#\u001b[39m\u001b[39m%04X\u001b[39;00m\u001b[39m]  C: <POOL> released unclean connection\u001b[39m\u001b[39m\"\u001b[39m,\n\u001b[0;32m    271\u001b[0m         connection\u001b[39m.\u001b[39mlocal_port\n\u001b[0;32m    272\u001b[0m     )\n\u001b[1;32m--> 273\u001b[0m     connection\u001b[39m.\u001b[39;49mreset()\n\u001b[0;32m    274\u001b[0m \u001b[39mexcept\u001b[39;00m (Neo4jError, DriverError, BoltError) \u001b[39mas\u001b[39;00m e:\n\u001b[0;32m    275\u001b[0m     log\u001b[39m.\u001b[39mdebug(\u001b[39m\"\u001b[39m\u001b[39mFailed to reset connection on release: \u001b[39m\u001b[39m%r\u001b[39;00m\u001b[39m\"\u001b[39m, e)\n",
            "File \u001b[1;32mc:\\Python310\\lib\\site-packages\\neo4j\\_sync\\io\\_bolt5.py:270\u001b[0m, in \u001b[0;36mBolt5x0.reset\u001b[1;34m(self, dehydration_hooks, hydration_hooks)\u001b[0m\n\u001b[0;32m    265\u001b[0m \u001b[39mself\u001b[39m\u001b[39m.\u001b[39m_append(\u001b[39mb\u001b[39m\u001b[39m\"\u001b[39m\u001b[39m\\x0F\u001b[39;00m\u001b[39m\"\u001b[39m,\n\u001b[0;32m    266\u001b[0m              response\u001b[39m=\u001b[39mResponse(\u001b[39mself\u001b[39m, \u001b[39m\"\u001b[39m\u001b[39mreset\u001b[39m\u001b[39m\"\u001b[39m, hydration_hooks,\n\u001b[0;32m    267\u001b[0m                                on_failure\u001b[39m=\u001b[39mfail),\n\u001b[0;32m    268\u001b[0m              dehydration_hooks\u001b[39m=\u001b[39mdehydration_hooks)\n\u001b[0;32m    269\u001b[0m \u001b[39mself\u001b[39m\u001b[39m.\u001b[39msend_all()\n\u001b[1;32m--> 270\u001b[0m \u001b[39mself\u001b[39;49m\u001b[39m.\u001b[39;49mfetch_all()\n",
            "File \u001b[1;32mc:\\Python310\\lib\\site-packages\\neo4j\\_sync\\io\\_bolt.py:669\u001b[0m, in \u001b[0;36mBolt.fetch_all\u001b[1;34m(self)\u001b[0m\n\u001b[0;32m    667\u001b[0m response \u001b[39m=\u001b[39m \u001b[39mself\u001b[39m\u001b[39m.\u001b[39mresponses[\u001b[39m0\u001b[39m]\n\u001b[0;32m    668\u001b[0m \u001b[39mwhile\u001b[39;00m \u001b[39mnot\u001b[39;00m response\u001b[39m.\u001b[39mcomplete:\n\u001b[1;32m--> 669\u001b[0m     detail_delta, summary_delta \u001b[39m=\u001b[39m \u001b[39mself\u001b[39;49m\u001b[39m.\u001b[39;49mfetch_message()\n\u001b[0;32m    670\u001b[0m     detail_count \u001b[39m+\u001b[39m\u001b[39m=\u001b[39m detail_delta\n\u001b[0;32m    671\u001b[0m     summary_count \u001b[39m+\u001b[39m\u001b[39m=\u001b[39m summary_delta\n",
            "File \u001b[1;32mc:\\Python310\\lib\\site-packages\\neo4j\\_sync\\io\\_bolt.py:652\u001b[0m, in \u001b[0;36mBolt.fetch_message\u001b[1;34m(self)\u001b[0m\n\u001b[0;32m    649\u001b[0m     \u001b[39mreturn\u001b[39;00m \u001b[39m0\u001b[39m, \u001b[39m0\u001b[39m\n\u001b[0;32m    651\u001b[0m \u001b[39m# Receive exactly one message\u001b[39;00m\n\u001b[1;32m--> 652\u001b[0m tag, fields \u001b[39m=\u001b[39m \u001b[39mself\u001b[39;49m\u001b[39m.\u001b[39;49minbox\u001b[39m.\u001b[39;49mpop(\n\u001b[0;32m    653\u001b[0m     hydration_hooks\u001b[39m=\u001b[39;49m\u001b[39mself\u001b[39;49m\u001b[39m.\u001b[39;49mresponses[\u001b[39m0\u001b[39;49m]\u001b[39m.\u001b[39;49mhydration_hooks\n\u001b[0;32m    654\u001b[0m )\n\u001b[0;32m    655\u001b[0m res \u001b[39m=\u001b[39m \u001b[39mself\u001b[39m\u001b[39m.\u001b[39m_process_message(tag, fields)\n\u001b[0;32m    656\u001b[0m \u001b[39mself\u001b[39m\u001b[39m.\u001b[39midle_since \u001b[39m=\u001b[39m perf_counter()\n",
            "File \u001b[1;32mc:\\Python310\\lib\\site-packages\\neo4j\\_sync\\io\\_common.py:74\u001b[0m, in \u001b[0;36mInbox.pop\u001b[1;34m(self, hydration_hooks)\u001b[0m\n\u001b[0;32m     73\u001b[0m \u001b[39mdef\u001b[39;00m \u001b[39mpop\u001b[39m(\u001b[39mself\u001b[39m, hydration_hooks):\n\u001b[1;32m---> 74\u001b[0m     \u001b[39mself\u001b[39;49m\u001b[39m.\u001b[39;49m_buffer_one_chunk()\n\u001b[0;32m     75\u001b[0m     \u001b[39mtry\u001b[39;00m:\n\u001b[0;32m     76\u001b[0m         size, tag \u001b[39m=\u001b[39m \u001b[39mself\u001b[39m\u001b[39m.\u001b[39m_unpacker\u001b[39m.\u001b[39munpack_structure_header()\n",
            "File \u001b[1;32mc:\\Python310\\lib\\site-packages\\neo4j\\_sync\\io\\_common.py:58\u001b[0m, in \u001b[0;36mInbox._buffer_one_chunk\u001b[1;34m(self)\u001b[0m\n\u001b[0;32m     55\u001b[0m     \u001b[39mif\u001b[39;00m chunk_size \u001b[39m==\u001b[39m \u001b[39m0\u001b[39m:\n\u001b[0;32m     56\u001b[0m         log\u001b[39m.\u001b[39mdebug(\u001b[39m\"\u001b[39m\u001b[39m[#\u001b[39m\u001b[39m%04X\u001b[39;00m\u001b[39m]  S: <NOOP>\u001b[39m\u001b[39m\"\u001b[39m, \u001b[39mself\u001b[39m\u001b[39m.\u001b[39m_local_port)\n\u001b[1;32m---> 58\u001b[0m receive_into_buffer(\n\u001b[0;32m     59\u001b[0m     \u001b[39mself\u001b[39;49m\u001b[39m.\u001b[39;49m_socket, \u001b[39mself\u001b[39;49m\u001b[39m.\u001b[39;49m_buffer, chunk_size \u001b[39m+\u001b[39;49m \u001b[39m2\u001b[39;49m\n\u001b[0;32m     60\u001b[0m )\n\u001b[0;32m     61\u001b[0m chunk_size \u001b[39m=\u001b[39m \u001b[39mself\u001b[39m\u001b[39m.\u001b[39m_buffer\u001b[39m.\u001b[39mpop_u16()\n\u001b[0;32m     63\u001b[0m \u001b[39mif\u001b[39;00m chunk_size \u001b[39m==\u001b[39m \u001b[39m0\u001b[39m:\n\u001b[0;32m     64\u001b[0m     \u001b[39m# chunk_size was the end marker for the message\u001b[39;00m\n",
            "File \u001b[1;32mc:\\Python310\\lib\\site-packages\\neo4j\\_sync\\io\\_common.py:289\u001b[0m, in \u001b[0;36mreceive_into_buffer\u001b[1;34m(sock, buffer, n_bytes)\u001b[0m\n\u001b[0;32m    287\u001b[0m end \u001b[39m=\u001b[39m buffer\u001b[39m.\u001b[39mused \u001b[39m+\u001b[39m n_bytes\n\u001b[0;32m    288\u001b[0m \u001b[39mif\u001b[39;00m end \u001b[39m>\u001b[39m \u001b[39mlen\u001b[39m(buffer\u001b[39m.\u001b[39mdata):\n\u001b[1;32m--> 289\u001b[0m     buffer\u001b[39m.\u001b[39mdata \u001b[39m+\u001b[39m\u001b[39m=\u001b[39m \u001b[39mbytearray\u001b[39m(end \u001b[39m-\u001b[39m \u001b[39mlen\u001b[39m(buffer\u001b[39m.\u001b[39mdata))\n\u001b[0;32m    290\u001b[0m \u001b[39mwith\u001b[39;00m \u001b[39mmemoryview\u001b[39m(buffer\u001b[39m.\u001b[39mdata) \u001b[39mas\u001b[39;00m view:\n\u001b[0;32m    291\u001b[0m     \u001b[39mwhile\u001b[39;00m buffer\u001b[39m.\u001b[39mused \u001b[39m<\u001b[39m end:\n",
            "\u001b[1;31mBufferError\u001b[0m: Existing exports of data: object cannot be re-sized"
          ]
        }
      ],
      "source": [
        "if __name__ == \"__main__\":\n",
        "    # Aura queries use an encrypted connection using the \"neo4j+s\" URI scheme\n",
        "    uri = \"neo4j+s://50728551.databases.neo4j.io:7687\"\n",
        "    user = \"neo4j\"\n",
        "    password = \"4qdJFRzdAU9l2qWCCizkH163hvQ9UD9j4rk3sYndmQs\"\n",
        "    app = App(uri, user, password)\n",
        "    \n",
        "    # df_trades=df_trades.head(25)\n",
        "\n",
        "    for idx, row in df.iterrows():\n",
        "      # if row['country_code']==\"usa\" or row['country_code']==\"afg\":  \n",
        "      #   app.create_country_node(row, False)\n",
        "      app.create_country_node(row, False)\n",
        "    \n",
        "    for idx, row in df.iterrows():\n",
        "      # if row['country_code']==\"usa\" or row['country_code']==\"afg\":  \n",
        "      #   app.FTA(row['FTA_id'], row['has_fta'], row['signed_year'],row['inforced_year'],row['country_code'],\"usa\")\n",
        "      app.FTA(row['FTA_id'], row['has_fta'], row['signed_year'],row['inforced_year'],row['country_code'],\"usa\")\n",
        "\n",
        "\n"
      ]
    },
    {
      "cell_type": "code",
      "execution_count": null,
      "metadata": {},
      "outputs": [
        {
          "data": {
            "text/plain": [
              "['aus',\n",
              " 'bhr',\n",
              " 'can',\n",
              " 'col',\n",
              " 'cri',\n",
              " 'dom',\n",
              " 'slv',\n",
              " 'gtm',\n",
              " 'hnd',\n",
              " 'isr',\n",
              " 'jor',\n",
              " 'kor',\n",
              " 'mar',\n",
              " 'omn',\n",
              " 'pan',\n",
              " 'per',\n",
              " 'tha',\n",
              " 'are',\n",
              " 'gbr']"
            ]
          },
          "execution_count": 10,
          "metadata": {},
          "output_type": "execute_result"
        }
      ],
      "source": [
        "list(df_trades['exports_from'].unique())[1:]"
      ]
    },
    {
      "cell_type": "code",
      "execution_count": null,
      "metadata": {},
      "outputs": [
        {
          "name": "stdout",
          "output_type": "stream",
          "text": [
            "starting exports from\n",
            "working on this country from --> aus\n"
          ]
        },
        {
          "name": "stderr",
          "output_type": "stream",
          "text": [
            "Failed to read from defunct connection IPv4Address(('50728551.databases.neo4j.io', 7687)) (IPv4Address(('34.66.78.163', 7687)))\n",
            "Transaction failed and will be retried in 0.9523007492875899s (Failed to read from defunct connection IPv4Address(('50728551.databases.neo4j.io', 7687)) (IPv4Address(('34.66.78.163', 7687))))\n",
            "Failed to read from defunct connection ResolvedIPv4Address(('34.66.78.163', 7687)) (IPv4Address(('34.66.78.163', 7687)))\n",
            "Unable to retrieve routing information\n",
            "Transaction failed and will be retried in 1.6421214037525897s (Unable to retrieve routing information)\n",
            "Unable to retrieve routing information\n",
            "Transaction failed and will be retried in 3.277569731315772s (Unable to retrieve routing information)\n",
            "Unable to retrieve routing information\n",
            "Transaction failed and will be retried in 9.57234141571237s (Unable to retrieve routing information)\n",
            "Unable to retrieve routing information\n",
            "Transaction failed and will be retried in 15.892385652328079s (Unable to retrieve routing information)\n"
          ]
        },
        {
          "name": "stdout",
          "output_type": "stream",
          "text": [
            "working on this country from --> bhr\n",
            "working on this country from --> can\n",
            "working on this country from --> col\n",
            "working on this country from --> cri\n",
            "working on this country from --> dom\n",
            "working on this country from --> slv\n",
            "working on this country from --> gtm\n",
            "working on this country from --> hnd\n",
            "working on this country from --> isr\n",
            "working on this country from --> jor\n",
            "working on this country from --> kor\n",
            "working on this country from --> mar\n",
            "working on this country from --> omn\n",
            "working on this country from --> pan\n",
            "working on this country from --> per\n",
            "working on this country from --> tha\n",
            "working on this country from --> are\n",
            "working on this country from --> gbr\n",
            "starting exports to\n",
            "working on this country to--> chl\n",
            "working on this country to--> col\n",
            "working on this country to--> dom\n"
          ]
        },
        {
          "name": "stderr",
          "output_type": "stream",
          "text": [
            "Failed to read from defunct connection IPv4Address(('50728551.databases.neo4j.io', 7687)) (IPv4Address(('34.66.78.163', 7687)))\n",
            "Transaction failed and will be retried in 1.0936743633733552s (Failed to read from defunct connection IPv4Address(('50728551.databases.neo4j.io', 7687)) (IPv4Address(('34.66.78.163', 7687))))\n",
            "Failed to read from defunct connection ResolvedIPv4Address(('34.66.78.163', 7687)) (IPv4Address(('34.66.78.163', 7687)))\n",
            "Unable to retrieve routing information\n",
            "Transaction failed and will be retried in 1.6805335008722078s (Unable to retrieve routing information)\n",
            "Unable to retrieve routing information\n",
            "Transaction failed and will be retried in 3.614959528996267s (Unable to retrieve routing information)\n",
            "Unable to retrieve routing information\n",
            "Transaction failed and will be retried in 6.421469037348485s (Unable to retrieve routing information)\n",
            "Unable to retrieve routing information\n",
            "Transaction failed and will be retried in 14.27402630744951s (Unable to retrieve routing information)\n"
          ]
        },
        {
          "name": "stdout",
          "output_type": "stream",
          "text": [
            "working on this country to--> slv\n",
            "working on this country to--> gha\n",
            "working on this country to--> gtm\n",
            "working on this country to--> hnd\n",
            "working on this country to--> isr\n",
            "working on this country to--> kor\n",
            "working on this country to--> mex\n",
            "working on this country to--> mar\n",
            "working on this country to--> omn\n",
            "working on this country to--> pan\n",
            "working on this country to--> per\n"
          ]
        },
        {
          "ename": "ClientError",
          "evalue": "{code: Neo.ClientError.Transaction.TransactionHookFailed} {message: You have exceeded the logical size limit of 400000 relationships in your database (attempt to add 5 relationships would reach 400004 relationships). Please consider upgrading to the next tier.}",
          "output_type": "error",
          "traceback": [
            "\u001b[1;31m---------------------------------------------------------------------------\u001b[0m",
            "\u001b[1;31mClientError\u001b[0m                               Traceback (most recent call last)",
            "\u001b[1;32mc:\\Users\\tejas\\OneDrive\\Documents\\DSCI 558\\Project\\04 Load data into Neo4j\\upload_neo4j_final.ipynb Cell 11\u001b[0m in \u001b[0;36m<cell line: 10>\u001b[1;34m()\u001b[0m\n\u001b[0;32m     <a href='vscode-notebook-cell:/c%3A/Users/tejas/OneDrive/Documents/DSCI%20558/Project/04%20Load%20data%20into%20Neo4j/upload_neo4j_final.ipynb#X13sZmlsZQ%3D%3D?line=11'>12</a>\u001b[0m     a\u001b[39m=\u001b[39mdf_trades[df_trades[\u001b[39m'\u001b[39m\u001b[39mexports_to\u001b[39m\u001b[39m'\u001b[39m]\u001b[39m==\u001b[39mcountry]\n\u001b[0;32m     <a href='vscode-notebook-cell:/c%3A/Users/tejas/OneDrive/Documents/DSCI%20558/Project/04%20Load%20data%20into%20Neo4j/upload_neo4j_final.ipynb#X13sZmlsZQ%3D%3D?line=12'>13</a>\u001b[0m     \u001b[39mfor\u001b[39;00m idx, row \u001b[39min\u001b[39;00m a\u001b[39m.\u001b[39miterrows():\n\u001b[1;32m---> <a href='vscode-notebook-cell:/c%3A/Users/tejas/OneDrive/Documents/DSCI%20558/Project/04%20Load%20data%20into%20Neo4j/upload_neo4j_final.ipynb#X13sZmlsZQ%3D%3D?line=13'>14</a>\u001b[0m         app\u001b[39m.\u001b[39;49mtrade_rel(row[\u001b[39m'\u001b[39;49m\u001b[39mtrade_id\u001b[39;49m\u001b[39m'\u001b[39;49m], row[\u001b[39m'\u001b[39;49m\u001b[39mexports_from\u001b[39;49m\u001b[39m'\u001b[39;49m], row[\u001b[39m'\u001b[39;49m\u001b[39mexports_to\u001b[39;49m\u001b[39m'\u001b[39;49m],row[\u001b[39m'\u001b[39;49m\u001b[39mexports_year\u001b[39;49m\u001b[39m'\u001b[39;49m],row[\u001b[39m'\u001b[39;49m\u001b[39mcurrency\u001b[39;49m\u001b[39m'\u001b[39;49m],row[\u001b[39m'\u001b[39;49m\u001b[39mtrade_value\u001b[39;49m\u001b[39m'\u001b[39;49m],row[\u001b[39m'\u001b[39;49m\u001b[39mitem_name\u001b[39;49m\u001b[39m'\u001b[39;49m],row[\u001b[39m'\u001b[39;49m\u001b[39mitem_id\u001b[39;49m\u001b[39m'\u001b[39;49m],row[\u001b[39m'\u001b[39;49m\u001b[39mcategory_name\u001b[39;49m\u001b[39m'\u001b[39;49m],row[\u001b[39m'\u001b[39;49m\u001b[39mcategory_id\u001b[39;49m\u001b[39m'\u001b[39;49m],row[\u001b[39m'\u001b[39;49m\u001b[39msection_name\u001b[39;49m\u001b[39m'\u001b[39;49m],row[\u001b[39m'\u001b[39;49m\u001b[39msection_id\u001b[39;49m\u001b[39m'\u001b[39;49m])\n\u001b[0;32m     <a href='vscode-notebook-cell:/c%3A/Users/tejas/OneDrive/Documents/DSCI%20558/Project/04%20Load%20data%20into%20Neo4j/upload_neo4j_final.ipynb#X13sZmlsZQ%3D%3D?line=15'>16</a>\u001b[0m \u001b[39mprint\u001b[39m(\u001b[39m'\u001b[39m\u001b[39mdone\u001b[39m\u001b[39m'\u001b[39m)\n\u001b[0;32m     <a href='vscode-notebook-cell:/c%3A/Users/tejas/OneDrive/Documents/DSCI%20558/Project/04%20Load%20data%20into%20Neo4j/upload_neo4j_final.ipynb#X13sZmlsZQ%3D%3D?line=16'>17</a>\u001b[0m app\u001b[39m.\u001b[39mclose()\n",
            "\u001b[1;32mc:\\Users\\tejas\\OneDrive\\Documents\\DSCI 558\\Project\\04 Load data into Neo4j\\upload_neo4j_final.ipynb Cell 11\u001b[0m in \u001b[0;36mApp.trade_rel\u001b[1;34m(self, p1, p2, p3, p4, p5, p6, p7, p8, p9, p10, p11, p12)\u001b[0m\n\u001b[0;32m     <a href='vscode-notebook-cell:/c%3A/Users/tejas/OneDrive/Documents/DSCI%20558/Project/04%20Load%20data%20into%20Neo4j/upload_neo4j_final.ipynb#X13sZmlsZQ%3D%3D?line=31'>32</a>\u001b[0m \u001b[39mdef\u001b[39;00m \u001b[39mtrade_rel\u001b[39m(\u001b[39mself\u001b[39m, p1, p2, p3, p4, p5, p6, p7, p8, p9, p10, p11, p12):\n\u001b[0;32m     <a href='vscode-notebook-cell:/c%3A/Users/tejas/OneDrive/Documents/DSCI%20558/Project/04%20Load%20data%20into%20Neo4j/upload_neo4j_final.ipynb#X13sZmlsZQ%3D%3D?line=32'>33</a>\u001b[0m     \u001b[39mwith\u001b[39;00m \u001b[39mself\u001b[39m\u001b[39m.\u001b[39mdriver\u001b[39m.\u001b[39msession(database\u001b[39m=\u001b[39m\u001b[39m\"\u001b[39m\u001b[39mneo4j\u001b[39m\u001b[39m\"\u001b[39m) \u001b[39mas\u001b[39;00m session:\n\u001b[1;32m---> <a href='vscode-notebook-cell:/c%3A/Users/tejas/OneDrive/Documents/DSCI%20558/Project/04%20Load%20data%20into%20Neo4j/upload_neo4j_final.ipynb#X13sZmlsZQ%3D%3D?line=33'>34</a>\u001b[0m         session\u001b[39m.\u001b[39;49mexecute_write(\n\u001b[0;32m     <a href='vscode-notebook-cell:/c%3A/Users/tejas/OneDrive/Documents/DSCI%20558/Project/04%20Load%20data%20into%20Neo4j/upload_neo4j_final.ipynb#X13sZmlsZQ%3D%3D?line=34'>35</a>\u001b[0m             \u001b[39mself\u001b[39;49m\u001b[39m.\u001b[39;49mload_trade_rel, p1, p2, p3, p4, p5, p6, p7, p8, p9, p10, p11, p12)\n",
            "File \u001b[1;32mc:\\Python310\\lib\\site-packages\\neo4j\\_sync\\work\\session.py:704\u001b[0m, in \u001b[0;36mSession.execute_write\u001b[1;34m(self, transaction_function, *args, **kwargs)\u001b[0m\n\u001b[0;32m    660\u001b[0m \u001b[39mdef\u001b[39;00m \u001b[39mexecute_write\u001b[39m(\n\u001b[0;32m    661\u001b[0m     \u001b[39mself\u001b[39m,\n\u001b[0;32m    662\u001b[0m     transaction_function: t\u001b[39m.\u001b[39mCallable[\n\u001b[1;32m   (...)\u001b[0m\n\u001b[0;32m    665\u001b[0m     \u001b[39m*\u001b[39margs: _P\u001b[39m.\u001b[39margs,  \u001b[39m*\u001b[39m\u001b[39m*\u001b[39mkwargs: _P\u001b[39m.\u001b[39mkwargs\n\u001b[0;32m    666\u001b[0m ) \u001b[39m-\u001b[39m\u001b[39m>\u001b[39m _R:\n\u001b[0;32m    667\u001b[0m     \u001b[39m\"\"\"Execute a unit of work in a managed write transaction.\u001b[39;00m\n\u001b[0;32m    668\u001b[0m \n\u001b[0;32m    669\u001b[0m \u001b[39m    .. note::\u001b[39;00m\n\u001b[1;32m   (...)\u001b[0m\n\u001b[0;32m    702\u001b[0m \u001b[39m    .. versionadded:: 5.0\u001b[39;00m\n\u001b[0;32m    703\u001b[0m \u001b[39m    \"\"\"\u001b[39;00m\n\u001b[1;32m--> 704\u001b[0m     \u001b[39mreturn\u001b[39;00m \u001b[39mself\u001b[39m\u001b[39m.\u001b[39m_run_transaction(\n\u001b[0;32m    705\u001b[0m         WRITE_ACCESS, transaction_function, \u001b[39m*\u001b[39margs, \u001b[39m*\u001b[39m\u001b[39m*\u001b[39mkwargs\n\u001b[0;32m    706\u001b[0m     )\n",
            "File \u001b[1;32mc:\\Python310\\lib\\site-packages\\neo4j\\_sync\\work\\session.py:495\u001b[0m, in \u001b[0;36mSession._run_transaction\u001b[1;34m(self, access_mode, transaction_function, *args, **kwargs)\u001b[0m\n\u001b[0;32m    493\u001b[0m         \u001b[39mraise\u001b[39;00m\n\u001b[0;32m    494\u001b[0m     \u001b[39melse\u001b[39;00m:\n\u001b[1;32m--> 495\u001b[0m         tx\u001b[39m.\u001b[39;49m_commit()\n\u001b[0;32m    496\u001b[0m \u001b[39mexcept\u001b[39;00m (DriverError, Neo4jError) \u001b[39mas\u001b[39;00m error:\n\u001b[0;32m    497\u001b[0m     \u001b[39mself\u001b[39m\u001b[39m.\u001b[39m_disconnect()\n",
            "File \u001b[1;32mc:\\Python310\\lib\\site-packages\\neo4j\\_sync\\work\\transaction.py:173\u001b[0m, in \u001b[0;36mTransactionBase._commit\u001b[1;34m(self)\u001b[0m\n\u001b[0;32m    171\u001b[0m \u001b[39mself\u001b[39m\u001b[39m.\u001b[39m_connection\u001b[39m.\u001b[39mcommit(on_success\u001b[39m=\u001b[39mmetadata\u001b[39m.\u001b[39mupdate)\n\u001b[0;32m    172\u001b[0m \u001b[39mself\u001b[39m\u001b[39m.\u001b[39m_connection\u001b[39m.\u001b[39msend_all()\n\u001b[1;32m--> 173\u001b[0m \u001b[39mself\u001b[39;49m\u001b[39m.\u001b[39;49m_connection\u001b[39m.\u001b[39;49mfetch_all()\n\u001b[0;32m    174\u001b[0m \u001b[39mself\u001b[39m\u001b[39m.\u001b[39m_bookmark \u001b[39m=\u001b[39m metadata\u001b[39m.\u001b[39mget(\u001b[39m\"\u001b[39m\u001b[39mbookmark\u001b[39m\u001b[39m\"\u001b[39m)\n\u001b[0;32m    175\u001b[0m \u001b[39mself\u001b[39m\u001b[39m.\u001b[39m_database \u001b[39m=\u001b[39m metadata\u001b[39m.\u001b[39mget(\u001b[39m\"\u001b[39m\u001b[39mdb\u001b[39m\u001b[39m\"\u001b[39m, \u001b[39mself\u001b[39m\u001b[39m.\u001b[39m_database)\n",
            "File \u001b[1;32mc:\\Python310\\lib\\site-packages\\neo4j\\_sync\\io\\_bolt.py:669\u001b[0m, in \u001b[0;36mBolt.fetch_all\u001b[1;34m(self)\u001b[0m\n\u001b[0;32m    667\u001b[0m response \u001b[39m=\u001b[39m \u001b[39mself\u001b[39m\u001b[39m.\u001b[39mresponses[\u001b[39m0\u001b[39m]\n\u001b[0;32m    668\u001b[0m \u001b[39mwhile\u001b[39;00m \u001b[39mnot\u001b[39;00m response\u001b[39m.\u001b[39mcomplete:\n\u001b[1;32m--> 669\u001b[0m     detail_delta, summary_delta \u001b[39m=\u001b[39m \u001b[39mself\u001b[39;49m\u001b[39m.\u001b[39;49mfetch_message()\n\u001b[0;32m    670\u001b[0m     detail_count \u001b[39m+\u001b[39m\u001b[39m=\u001b[39m detail_delta\n\u001b[0;32m    671\u001b[0m     summary_count \u001b[39m+\u001b[39m\u001b[39m=\u001b[39m summary_delta\n",
            "File \u001b[1;32mc:\\Python310\\lib\\site-packages\\neo4j\\_sync\\io\\_bolt.py:655\u001b[0m, in \u001b[0;36mBolt.fetch_message\u001b[1;34m(self)\u001b[0m\n\u001b[0;32m    651\u001b[0m \u001b[39m# Receive exactly one message\u001b[39;00m\n\u001b[0;32m    652\u001b[0m tag, fields \u001b[39m=\u001b[39m \u001b[39mself\u001b[39m\u001b[39m.\u001b[39minbox\u001b[39m.\u001b[39mpop(\n\u001b[0;32m    653\u001b[0m     hydration_hooks\u001b[39m=\u001b[39m\u001b[39mself\u001b[39m\u001b[39m.\u001b[39mresponses[\u001b[39m0\u001b[39m]\u001b[39m.\u001b[39mhydration_hooks\n\u001b[0;32m    654\u001b[0m )\n\u001b[1;32m--> 655\u001b[0m res \u001b[39m=\u001b[39m \u001b[39mself\u001b[39;49m\u001b[39m.\u001b[39;49m_process_message(tag, fields)\n\u001b[0;32m    656\u001b[0m \u001b[39mself\u001b[39m\u001b[39m.\u001b[39midle_since \u001b[39m=\u001b[39m perf_counter()\n\u001b[0;32m    657\u001b[0m \u001b[39mreturn\u001b[39;00m res\n",
            "File \u001b[1;32mc:\\Python310\\lib\\site-packages\\neo4j\\_sync\\io\\_bolt5.py:316\u001b[0m, in \u001b[0;36mBolt5x0._process_message\u001b[1;34m(self, tag, fields)\u001b[0m\n\u001b[0;32m    314\u001b[0m \u001b[39mself\u001b[39m\u001b[39m.\u001b[39m_server_state_manager\u001b[39m.\u001b[39mstate \u001b[39m=\u001b[39m ServerStates\u001b[39m.\u001b[39mFAILED\n\u001b[0;32m    315\u001b[0m \u001b[39mtry\u001b[39;00m:\n\u001b[1;32m--> 316\u001b[0m     response\u001b[39m.\u001b[39;49mon_failure(summary_metadata \u001b[39mor\u001b[39;49;00m {})\n\u001b[0;32m    317\u001b[0m \u001b[39mexcept\u001b[39;00m (ServiceUnavailable, DatabaseUnavailable):\n\u001b[0;32m    318\u001b[0m     \u001b[39mif\u001b[39;00m \u001b[39mself\u001b[39m\u001b[39m.\u001b[39mpool:\n",
            "File \u001b[1;32mc:\\Python310\\lib\\site-packages\\neo4j\\_sync\\io\\_common.py:247\u001b[0m, in \u001b[0;36mResponse.on_failure\u001b[1;34m(self, metadata)\u001b[0m\n\u001b[0;32m    245\u001b[0m handler \u001b[39m=\u001b[39m \u001b[39mself\u001b[39m\u001b[39m.\u001b[39mhandlers\u001b[39m.\u001b[39mget(\u001b[39m\"\u001b[39m\u001b[39mon_summary\u001b[39m\u001b[39m\"\u001b[39m)\n\u001b[0;32m    246\u001b[0m Util\u001b[39m.\u001b[39mcallback(handler)\n\u001b[1;32m--> 247\u001b[0m \u001b[39mraise\u001b[39;00m Neo4jError\u001b[39m.\u001b[39mhydrate(\u001b[39m*\u001b[39m\u001b[39m*\u001b[39mmetadata)\n",
            "\u001b[1;31mClientError\u001b[0m: {code: Neo.ClientError.Transaction.TransactionHookFailed} {message: You have exceeded the logical size limit of 400000 relationships in your database (attempt to add 5 relationships would reach 400004 relationships). Please consider upgrading to the next tier.}"
          ]
        }
      ],
      "source": [
        "print('starting exports from')\n",
        "for country in list(df_trades['exports_from'].unique())[1:]:\n",
        "    print('working on this country from -->',country)\n",
        "    a=df_trades[df_trades['exports_from']==country]\n",
        "    for idx, row in a.iterrows():\n",
        "        app.trade(row['trade_id'], row['exports_from'], row['exports_to'],row['exports_year'],row['currency'],row['trade_value'],row['item_name'],row['item_id'],row['category_name'],row['category_id'],row['section_name'],row['section_id'])\n",
        "\n",
        "\n",
        "print('starting exports to')\n",
        "for country in list(df_trades['exports_to'].unique())[1:]:\n",
        "    print('working on this country to-->',country)\n",
        "    a=df_trades[df_trades['exports_to']==country]\n",
        "    for idx, row in a.iterrows():\n",
        "        app.trade_rel(row['trade_id'], row['exports_from'], row['exports_to'],row['exports_year'],row['currency'],row['trade_value'],row['item_name'],row['item_id'],row['category_name'],row['category_id'],row['section_name'],row['section_id'])\n",
        "\n",
        "print('done')\n",
        "app.close()"
      ]
    },
    {
      "cell_type": "code",
      "execution_count": null,
      "metadata": {},
      "outputs": [],
      "source": [
        "\n",
        "# for idx, row in df_trades.iterrows():\n",
        "#   app.trade(row['trade_id'], row['exports_from'], row['exports_to'],row['exports_year'],row['currency'],row['trade_value'],row['item_name'],row['item_id'],row['category_name'],row['category_id'],row['section_name'],row['section_id'])\n",
        "\n",
        "\n",
        "# for idx, row in df_trades.iterrows():\n",
        "#   app.trade_rel(row['trade_id'], row['exports_from'], row['exports_to'],row['exports_year'],row['currency'],row['trade_value'],row['item_name'],row['item_id'],row['category_name'],row['category_id'],row['section_name'],row['section_id'])\n",
        "\n",
        "# app.close()"
      ]
    }
  ],
  "metadata": {
    "colab": {
      "provenance": []
    },
    "kernelspec": {
      "display_name": "Python 3.10.6 64-bit",
      "language": "python",
      "name": "python3"
    },
    "language_info": {
      "codemirror_mode": {
        "name": "ipython",
        "version": 3
      },
      "file_extension": ".py",
      "mimetype": "text/x-python",
      "name": "python",
      "nbconvert_exporter": "python",
      "pygments_lexer": "ipython3",
      "version": "3.10.6"
    },
    "vscode": {
      "interpreter": {
        "hash": "369f2c481f4da34e4445cda3fffd2e751bd1c4d706f27375911949ba6bb62e1c"
      }
    }
  },
  "nbformat": 4,
  "nbformat_minor": 0
}
