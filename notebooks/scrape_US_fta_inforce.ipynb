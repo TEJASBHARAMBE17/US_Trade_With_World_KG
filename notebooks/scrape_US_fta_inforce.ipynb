{
 "cells": [
  {
   "cell_type": "code",
   "execution_count": 1,
   "id": "ff91ab12",
   "metadata": {},
   "outputs": [],
   "source": [
    "# Import libaries\n",
    "import pandas as pd\n",
    "import numpy as np\n",
    "import requests\n",
    "import time\n",
    "from lxml import etree\n",
    "from bs4 import BeautifulSoup\n",
    "import json\n",
    "import re"
   ]
  },
  {
   "cell_type": "code",
   "execution_count": 2,
   "id": "7419e14c",
   "metadata": {},
   "outputs": [
    {
     "data": {
      "text/plain": [
       "200"
      ]
     },
     "execution_count": 2,
     "metadata": {},
     "output_type": "execute_result"
    }
   ],
   "source": [
    "# Get data from url\n",
    "url = 'https://www.state.gov/trade-agreements/existing-u-s-trade-agreements/'\n",
    "response = requests.get(url)\n",
    "response.status_code"
   ]
  },
  {
   "cell_type": "code",
   "execution_count": 3,
   "id": "29488a8f",
   "metadata": {},
   "outputs": [
    {
     "data": {
      "text/plain": [
       "<Element html at 0x7fd7489bef40>"
      ]
     },
     "execution_count": 3,
     "metadata": {},
     "output_type": "execute_result"
    }
   ],
   "source": [
    "soup = BeautifulSoup(response.content, \"html.parser\")\n",
    "tree = etree.HTML(str(soup))\n",
    "tree"
   ]
  },
  {
   "cell_type": "code",
   "execution_count": 15,
   "id": "d44f36d8",
   "metadata": {
    "scrolled": false
   },
   "outputs": [
    {
     "data": {
      "text/html": [
       "<div>\n",
       "<style scoped>\n",
       "    .dataframe tbody tr th:only-of-type {\n",
       "        vertical-align: middle;\n",
       "    }\n",
       "\n",
       "    .dataframe tbody tr th {\n",
       "        vertical-align: top;\n",
       "    }\n",
       "\n",
       "    .dataframe thead th {\n",
       "        text-align: right;\n",
       "    }\n",
       "</style>\n",
       "<table border=\"1\" class=\"dataframe\">\n",
       "  <thead>\n",
       "    <tr style=\"text-align: right;\">\n",
       "      <th></th>\n",
       "      <th>country</th>\n",
       "      <th>signed_date</th>\n",
       "      <th>date_inforce</th>\n",
       "    </tr>\n",
       "  </thead>\n",
       "  <tbody>\n",
       "    <tr>\n",
       "      <th>0</th>\n",
       "      <td>Panama</td>\n",
       "      <td>June 28, 2007</td>\n",
       "      <td>October 31, 2012</td>\n",
       "    </tr>\n",
       "    <tr>\n",
       "      <th>1</th>\n",
       "      <td>Colombia</td>\n",
       "      <td>Nov. 22, 2006</td>\n",
       "      <td>May 15, 2012</td>\n",
       "    </tr>\n",
       "    <tr>\n",
       "      <th>2</th>\n",
       "      <td>South Korea</td>\n",
       "      <td>June 30, 2007</td>\n",
       "      <td>Mar. 15, 2012</td>\n",
       "    </tr>\n",
       "    <tr>\n",
       "      <th>3</th>\n",
       "      <td>Peru</td>\n",
       "      <td>Apr. 12, 2006</td>\n",
       "      <td>Feb. 1, 2009</td>\n",
       "    </tr>\n",
       "    <tr>\n",
       "      <th>4</th>\n",
       "      <td>Costa Rica</td>\n",
       "      <td>May 28, 2004</td>\n",
       "      <td>Jan. 1, 2009</td>\n",
       "    </tr>\n",
       "    <tr>\n",
       "      <th>5</th>\n",
       "      <td>Oman</td>\n",
       "      <td>Jan. 19, 2006</td>\n",
       "      <td>Jan. 1, 2009</td>\n",
       "    </tr>\n",
       "    <tr>\n",
       "      <th>6</th>\n",
       "      <td>Dominican Republic</td>\n",
       "      <td>Aug. 1, 2004</td>\n",
       "      <td>Mar. 1, 2007</td>\n",
       "    </tr>\n",
       "    <tr>\n",
       "      <th>7</th>\n",
       "      <td>Bahrain</td>\n",
       "      <td>Sept. 14, 2004</td>\n",
       "      <td>Aug. 1, 2006</td>\n",
       "    </tr>\n",
       "    <tr>\n",
       "      <th>8</th>\n",
       "      <td>Guatemala</td>\n",
       "      <td>May 28, 2004</td>\n",
       "      <td>July 1, 2006</td>\n",
       "    </tr>\n",
       "    <tr>\n",
       "      <th>9</th>\n",
       "      <td>Nicaragua</td>\n",
       "      <td>May 28, 2004</td>\n",
       "      <td>Apr. 1, 2006</td>\n",
       "    </tr>\n",
       "    <tr>\n",
       "      <th>10</th>\n",
       "      <td>Honduras</td>\n",
       "      <td>May 28, 2004</td>\n",
       "      <td>Apr. 1, 2006</td>\n",
       "    </tr>\n",
       "    <tr>\n",
       "      <th>11</th>\n",
       "      <td>El Salvador</td>\n",
       "      <td>May 28, 2004</td>\n",
       "      <td>Mar. 1, 2006</td>\n",
       "    </tr>\n",
       "    <tr>\n",
       "      <th>12</th>\n",
       "      <td>Morocco</td>\n",
       "      <td>June 15, 2004</td>\n",
       "      <td>Jan. 1, 2006</td>\n",
       "    </tr>\n",
       "    <tr>\n",
       "      <th>13</th>\n",
       "      <td>Australia</td>\n",
       "      <td>May 18, 2004</td>\n",
       "      <td>Jan. 1, 2005</td>\n",
       "    </tr>\n",
       "    <tr>\n",
       "      <th>14</th>\n",
       "      <td>Chile</td>\n",
       "      <td>June 6, 2003</td>\n",
       "      <td>Jan. 1, 2004</td>\n",
       "    </tr>\n",
       "    <tr>\n",
       "      <th>15</th>\n",
       "      <td>Singapore</td>\n",
       "      <td>May 6, 2003</td>\n",
       "      <td>Jan. 1, 2004</td>\n",
       "    </tr>\n",
       "    <tr>\n",
       "      <th>16</th>\n",
       "      <td>Jordan</td>\n",
       "      <td>Oct. 24, 2000</td>\n",
       "      <td>Dec. 17, 2001</td>\n",
       "    </tr>\n",
       "    <tr>\n",
       "      <th>17</th>\n",
       "      <td>Mexico</td>\n",
       "      <td>Dec. 1, 1992</td>\n",
       "      <td>Jan. 1, 1994</td>\n",
       "    </tr>\n",
       "    <tr>\n",
       "      <th>18</th>\n",
       "      <td>Canada</td>\n",
       "      <td>Dec. 1, 1992</td>\n",
       "      <td>Jan. 1, 1994</td>\n",
       "    </tr>\n",
       "    <tr>\n",
       "      <th>19</th>\n",
       "      <td>Israel</td>\n",
       "      <td>Apr. 22, 1985</td>\n",
       "      <td>Sept. 1, 1985</td>\n",
       "    </tr>\n",
       "  </tbody>\n",
       "</table>\n",
       "</div>"
      ],
      "text/plain": [
       "               country     signed_date      date_inforce\n",
       "0               Panama   June 28, 2007  October 31, 2012\n",
       "1             Colombia   Nov. 22, 2006      May 15, 2012\n",
       "2          South Korea   June 30, 2007     Mar. 15, 2012\n",
       "3                 Peru   Apr. 12, 2006      Feb. 1, 2009\n",
       "4           Costa Rica    May 28, 2004      Jan. 1, 2009\n",
       "5                 Oman   Jan. 19, 2006      Jan. 1, 2009\n",
       "6   Dominican Republic    Aug. 1, 2004      Mar. 1, 2007\n",
       "7              Bahrain  Sept. 14, 2004      Aug. 1, 2006\n",
       "8            Guatemala    May 28, 2004      July 1, 2006\n",
       "9            Nicaragua    May 28, 2004      Apr. 1, 2006\n",
       "10            Honduras    May 28, 2004      Apr. 1, 2006\n",
       "11         El Salvador    May 28, 2004      Mar. 1, 2006\n",
       "12             Morocco   June 15, 2004      Jan. 1, 2006\n",
       "13           Australia    May 18, 2004      Jan. 1, 2005\n",
       "14               Chile    June 6, 2003      Jan. 1, 2004\n",
       "15           Singapore     May 6, 2003      Jan. 1, 2004\n",
       "16              Jordan   Oct. 24, 2000     Dec. 17, 2001\n",
       "17              Mexico    Dec. 1, 1992      Jan. 1, 1994\n",
       "18              Canada    Dec. 1, 1992      Jan. 1, 1994\n",
       "19              Israel   Apr. 22, 1985     Sept. 1, 1985"
      ]
     },
     "execution_count": 15,
     "metadata": {},
     "output_type": "execute_result"
    }
   ],
   "source": [
    "df = pd.DataFrame(tree.xpath(\"//tbody/tr[position()>1]/td[1]/text()\"), columns=['country'])\n",
    "df['signed_date'] = tree.xpath(\"//tbody/tr[position()>1]/td[2]/p/text()\")\n",
    "df['date_inforce'] = tree.xpath(\"//tbody/tr[position()>1]/td[3]/p/text()\")\n",
    "df"
   ]
  },
  {
   "cell_type": "code",
   "execution_count": 16,
   "id": "5b5b48d0",
   "metadata": {},
   "outputs": [],
   "source": [
    "df.to_csv('../data/fta_inforce.csv', index=False)"
   ]
  },
  {
   "cell_type": "code",
   "execution_count": 17,
   "id": "7004e5d4",
   "metadata": {},
   "outputs": [
    {
     "data": {
      "text/plain": [
       "['Panama',\n",
       " 'Colombia',\n",
       " 'South Korea',\n",
       " 'Peru',\n",
       " 'Costa Rica',\n",
       " 'Oman',\n",
       " 'Dominican Republic',\n",
       " 'Bahrain',\n",
       " 'Guatemala',\n",
       " 'Nicaragua',\n",
       " 'Honduras',\n",
       " 'El Salvador',\n",
       " 'Morocco',\n",
       " 'Australia',\n",
       " 'Chile',\n",
       " 'Singapore',\n",
       " 'Jordan',\n",
       " 'Mexico',\n",
       " 'Canada',\n",
       " 'Israel']"
      ]
     },
     "execution_count": 17,
     "metadata": {},
     "output_type": "execute_result"
    }
   ],
   "source": [
    "df['country'].tolist()"
   ]
  },
  {
   "cell_type": "code",
   "execution_count": null,
   "id": "0378091c",
   "metadata": {},
   "outputs": [],
   "source": []
  },
  {
   "cell_type": "code",
   "execution_count": null,
   "id": "78f976bc",
   "metadata": {},
   "outputs": [],
   "source": []
  },
  {
   "cell_type": "code",
   "execution_count": null,
   "id": "3b350884",
   "metadata": {},
   "outputs": [],
   "source": []
  }
 ],
 "metadata": {
  "kernelspec": {
   "display_name": "venv39",
   "language": "python",
   "name": "venv39"
  },
  "language_info": {
   "codemirror_mode": {
    "name": "ipython",
    "version": 3
   },
   "file_extension": ".py",
   "mimetype": "text/x-python",
   "name": "python",
   "nbconvert_exporter": "python",
   "pygments_lexer": "ipython3",
   "version": "3.9.0"
  }
 },
 "nbformat": 4,
 "nbformat_minor": 5
}
