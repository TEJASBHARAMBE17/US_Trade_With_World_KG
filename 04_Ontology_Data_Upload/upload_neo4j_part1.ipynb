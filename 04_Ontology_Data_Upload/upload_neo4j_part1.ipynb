{
  "cells": [
    {
      "cell_type": "code",
      "execution_count": null,
      "metadata": {
        "colab": {
          "base_uri": "https://localhost:8080/"
        },
        "id": "g_Pk1Y3nRahn",
        "outputId": "af7e2a0b-034c-4475-fb38-8502f28a4648"
      },
      "outputs": [],
      "source": [
        "!pip install neo4j"
      ]
    },
    {
      "cell_type": "code",
      "execution_count": null,
      "metadata": {
        "id": "iahMEw8URe6s"
      },
      "outputs": [],
      "source": [
        "from neo4j import GraphDatabase\n",
        "import logging\n",
        "from neo4j.exceptions import ServiceUnavailable\n",
        "import pandas as pd\n",
        "import numpy as np"
      ]
    },
    {
      "cell_type": "code",
      "execution_count": null,
      "metadata": {
        "id": "rZRkvzM118ws"
      },
      "outputs": [],
      "source": [
        "df = pd.read_csv('./fta_pop_gdp_cleaned_v2.csv')\n",
        "df_trades=pd.read_csv('./trades_v3.csv')\n",
        "df_products=pd.read_csv('./products.csv')"
      ]
    },
    {
      "cell_type": "code",
      "execution_count": null,
      "metadata": {},
      "outputs": [],
      "source": [
        "\n",
        "def get_query(row):\n",
        "        str1 = 'MERGE (n1: Country {countryID : $n1}) ON CREATE SET n1.name = $n2,  '\n",
        "        for num in df.columns[5:-3]:\n",
        "            if row[num]==row[num]:\n",
        "                str1+= f'n1.{num}= $n{num}, '\n",
        "        str1 =str1[:-2]\n",
        "        return str1"
      ]
    },
    {
      "cell_type": "code",
      "execution_count": null,
      "metadata": {
        "id": "3WvoYfTk3PMx"
      },
      "outputs": [],
      "source": [
        "class App:\n",
        "\n",
        "    def __init__(self, uri, user, password):\n",
        "        self.driver = GraphDatabase.driver(uri, auth=(user, password))\n",
        "\n",
        "    def close(self):\n",
        "          self.driver.close()\n",
        "\n",
        "#####################################################################################################\n",
        "\n",
        "    def create_country_node(self, row, has_fta):\n",
        "        with self.driver.session(database=\"neo4j\") as session:\n",
        "            session.execute_write(self._create_country_node, row, has_fta)\n",
        "\n",
        "    @staticmethod\n",
        "    def _create_country_node(tx, row, has_fta):\n",
        "        query=(get_query(row))\n",
        "        tx.run((query), n1=row['country_code'], n2=row['country'], npopulation=row['population'],\n",
        "                n4=row['signed_year'], n5=row['inforced_year'],\n",
        "                ngdp_1960=row['gdp_1960'],  ngdp_1961=row['gdp_1961'],  ngdp_1962=row['gdp_1962'],  ngdp_1963=row['gdp_1963'],  ngdp_1964=row['gdp_1964'],  ngdp_1965=row['gdp_1965'],\n",
        "                ngdp_1966=row['gdp_1966'],  ngdp_1967=row['gdp_1967'],  ngdp_1968=row['gdp_1968'],  ngdp_1969=row['gdp_1969'],  ngdp_1970=row['gdp_1970'],  ngdp_1971=row['gdp_1971'],\n",
        "                ngdp_1972=row['gdp_1972'],  ngdp_1973=row['gdp_1973'],  ngdp_1974=row['gdp_1974'],  ngdp_1975=row['gdp_1975'],  ngdp_1976=row['gdp_1976'],  ngdp_1977=row['gdp_1977'], \n",
        "                ngdp_1978=row['gdp_1978'],  ngdp_1979=row['gdp_1979'],  ngdp_1980=row['gdp_1980'],  ngdp_1981=row['gdp_1981'],  ngdp_1982=row['gdp_1982'],  ngdp_1983=row['gdp_1983'], \n",
        "                ngdp_1984=row['gdp_1984'],  ngdp_1985=row['gdp_1985'],  ngdp_1986=row['gdp_1986'],  ngdp_1987=row['gdp_1987'],  ngdp_1988=row['gdp_1988'],  ngdp_1989=row['gdp_1989'],\n",
        "                ngdp_1990=row['gdp_1990'],  ngdp_1991=row['gdp_1991'],  ngdp_1992=row['gdp_1992'],  ngdp_1993=row['gdp_1993'],  ngdp_1994=row['gdp_1994'],  ngdp_1995=row['gdp_1995'], \n",
        "                ngdp_1996=row['gdp_1996'],  ngdp_1997=row['gdp_1997'],  ngdp_1998=row['gdp_1998'],  ngdp_1999=row['gdp_1999'],  ngdp_2000=row['gdp_2000'],  ngdp_2001=row['gdp_2001'],\n",
        "                ngdp_2002=row['gdp_2002'],  ngdp_2003=row['gdp_2003'],  ngdp_2004=row['gdp_2004'],  ngdp_2005=row['gdp_2005'],  ngdp_2006=row['gdp_2006'],  ngdp_2007=row['gdp_2007'],\n",
        "                ngdp_2008=row['gdp_2008'],  ngdp_2009=row['gdp_2009'],  ngdp_2010=row['gdp_2010'],  ngdp_2011=row['gdp_2011'],  ngdp_2012=row['gdp_2012'],  ngdp_2013=row['gdp_2013'],\n",
        "                ngdp_2014=row['gdp_2014'],  ngdp_2015=row['gdp_2015'],  ngdp_2016=row['gdp_2016'],  ngdp_2017=row['gdp_2017'],  ngdp_2018=row['gdp_2018'],  ngdp_2019=row['gdp_2019'],\n",
        "                ngdp_2020=row['gdp_2020'],  ngdp_2021=row['gdp_2021']  )\n",
        "\n",
        "#####################################################################################################\n",
        "\n",
        "    def FTA(self, p1, p2, p3, p4, p5, p6):\n",
        "        with self.driver.session(database=\"neo4j\") as session:\n",
        "            session.execute_write(\n",
        "                self.load_fta, p1, p2, p3, p4, p5, p6)\n",
        "\n",
        "    @staticmethod\n",
        "    def load_fta(tx, p1, p2, p3, p4, p5, p6):\n",
        "\n",
        "        query1 = (\n",
        "            \"MERGE (p1:FTA { ftaID: $p1 }) ON CREATE SET p1.has_fta = $p2, p1.signed_date=$p3, p1.date_inforce=$p4 \"\n",
        "        )\n",
        "\n",
        "        query2=(\n",
        "            \"MATCH (p1:FTA { ftaID: $p1 }), (p5:Country { countryID: $p5 }) \"\n",
        "            \"MERGE (p1)-[:hasFTA]->(p5) \"\n",
        "            )\n",
        "        query3 = (\n",
        "            \"MATCH (p6:Country { countryID: $p6 }), (p1:FTA { ftaID: $p1 }) MERGE (p1)-[:hasFTA]->(p6) \"\n",
        "        )\n",
        "\n",
        "        tx.run(query1, p1=p1, p2=p2, p3=p3, p4=p4, p5=p5, p6=p6)\n",
        "        tx.run(query2, p1=p1, p2=p2, p3=p3, p4=p4, p5=p5, p6=p6)\n",
        "        tx.run(query3, p1=p1, p2=p2, p3=p3, p4=p4, p5=p5, p6=p6)\n",
        "\n",
        "##################################################################################################### \n",
        "\n",
        "    def product(self, p1, p2, p3, p4, p5, p6):\n",
        "        with self.driver.session(database=\"neo4j\") as session:\n",
        "            session.execute_write(\n",
        "                self.load_product, p1, p2, p3, p4, p5, p6)\n",
        "\n",
        "    @staticmethod\n",
        "    def load_product(tx, p1, p2, p3, p4, p5, p6):\n",
        "\n",
        "        query1=(\n",
        "            \"MERGE (p5:Product { productID: $p5 }) ON CREATE SET p5.product=$p6 \"\n",
        "            \"MERGE (p3:Category { categoryID: $p3}) ON CREATE SET p3.Category = $p4 \"\n",
        "        )\n",
        "\n",
        "        query2=(\n",
        "            \"MERGE (p1:Section { sectionID: $p1}) ON CREATE SET p1.section = $p2 \"\n",
        "        )\n",
        "\n",
        "        query3=(\n",
        "            \"MATCH (p5:Product { productID: $p5 }), (p3:Category { categoryID: $p3 }) \"\n",
        "            \"MERGE (p5)-[:hasCategory]->(p3) \"\n",
        "            )\n",
        "\n",
        "        query4=(\n",
        "            \"MATCH (p1:Section { sectionID: $p1}), (p3:Category { categoryID: $p3 }) \"\n",
        "            \"MERGE (p3)-[:hasSection]->(p1) \"\n",
        "            )\n",
        "\n",
        "        tx.run(query1, p1=p1, p2=p2, p3=p3, p4=p4, p5=p5, p6=p6)\n",
        "        tx.run(query2, p1=p1, p2=p2, p3=p3, p4=p4, p5=p5, p6=p6)\n",
        "        tx.run(query3, p1=p1, p2=p2, p3=p3, p4=p4, p5=p5, p6=p6)\n",
        "        tx.run(query4, p1=p1, p2=p2, p3=p3, p4=p4, p5=p5, p6=p6)\n",
        "        \n",
        "##################################################################################################### \n",
        "\n",
        "    def trade(self, p1, p2, p3, p4, p5, p6, p7, p8):\n",
        "        with self.driver.session(database=\"neo4j\") as session:\n",
        "            session.execute_write(\n",
        "                self.load_trade, p1, p2, p3, p4, p5, p6, p7, p8)\n",
        "\n",
        "    @staticmethod\n",
        "    def load_trade(tx, p1, p2, p3, p4, p5, p6, p7, p8):\n",
        "\n",
        "        query1=(\n",
        "            \"MERGE (p1:Trade { tradeID: $p1 }) ON CREATE SET p1.tradedValue = $p6 \"\n",
        "            \"MERGE (p4:Year { year: $p4 })\"\n",
        "        )\n",
        "\n",
        "        tx.run(query1, p1=p1, p2=p2, p3=p3, p4=p4, p5=p5, p6=p6, p7=p7, p8=p8)\n",
        "\n",
        "#####################################################################################################\n",
        "\n",
        "\n",
        "    def trade_rel(self, p1, p2, p3, p4, p5, p6, p7, p8):\n",
        "        with self.driver.session(database=\"neo4j\") as session:\n",
        "            session.execute_write(\n",
        "                self.load_trade_rel, p1, p2, p3, p4, p5, p6, p7, p8)\n",
        "\n",
        "    @staticmethod\n",
        "    def load_trade_rel(tx, p1, p2, p3, p4, p5, p6, p7, p8):\n",
        "\n",
        "        query3=(\n",
        "            \"MATCH (p1:Trade { tradeID: $p1 }), (p2:Country { countryID: $p2 }) \"\n",
        "            \"MERGE (p1)-[:exportedFrom]->(p2) \"\n",
        "            )\n",
        "\n",
        "        query4=(\n",
        "            \"MATCH (p1:Trade { tradeID: $p1 }), (p3:Country { countryID: $p3 }) \"\n",
        "            \"MERGE (p1)-[:exportedTo]->(p3) \"\n",
        "            )\n",
        "\n",
        "        query5=(\n",
        "            \"MATCH (p1:Trade { tradeID: $p1 }), (p4:Year { year: $p4 }) \"\n",
        "            \"MERGE (p1)-[:tradedYear]->(p4) \"\n",
        "            )\n",
        "\n",
        "        query6=(\n",
        "            \"MATCH (p1:Trade { tradeID: $p1 }), (p8:Section { sectionID: $p8 }) \"\n",
        "            \"MERGE (p1)-[:tradedProduct]->(p8) \"\n",
        "            )\n",
        "\n",
        "\n",
        "        tx.run(query3, p1=p1, p2=p2, p3=p3, p4=p4, p5=p5, p6=p6, p7=p7, p8=p8)\n",
        "        tx.run(query4, p1=p1, p2=p2, p3=p3, p4=p4, p5=p5, p6=p6, p7=p7, p8=p8)\n",
        "        tx.run(query5, p1=p1, p2=p2, p3=p3, p4=p4, p5=p5, p6=p6, p7=p7, p8=p8)\n",
        "        tx.run(query6, p1=p1, p2=p2, p3=p3, p4=p4, p5=p5, p6=p6, p7=p7, p8=p8)"
      ]
    },
    {
      "cell_type": "code",
      "execution_count": null,
      "metadata": {
        "colab": {
          "base_uri": "https://localhost:8080/",
          "height": 205
        },
        "id": "q2hfwxJN18zT",
        "outputId": "ec70cc11-9b6b-41bb-f669-700f23728a9f"
      },
      "outputs": [],
      "source": [
        "df['signed_date'].fillna(value=pd.to_datetime('12/31/2030'), inplace=True)\n",
        "df['signed_year'] = pd.DatetimeIndex(df['signed_date']).year\n",
        "df['date_inforce'].fillna(value=pd.to_datetime('12/31/2030'), inplace=True)\n",
        "df['inforced_year'] = pd.DatetimeIndex(df['date_inforce']).year\n",
        "df['country_code']=df['country_code'].str.lower()\n",
        "df['FTA_id']=\"fta_\"+df['FTA_id'].astype(str)\n",
        "# df.head(2)"
      ]
    },
    {
      "cell_type": "code",
      "execution_count": null,
      "metadata": {},
      "outputs": [],
      "source": [
        "# df_trades['trade_id'] = df_trades['trade_id'].str.replace('ported','')\n",
        "# df_trades['trade_id'] = df_trades['trade_id'].str.lower()\n",
        "# # df_trades.head(5)"
      ]
    },
    {
      "cell_type": "code",
      "execution_count": null,
      "metadata": {
        "id": "czTezwma3PPu"
      },
      "outputs": [],
      "source": [
        "if __name__ == \"__main__\":\n",
        "    # Aura queries use an encrypted connection using the \"neo4j+s\" URI scheme\n",
        "    uri = \"neo4j+s://43b50553.databases.neo4j.io\"\n",
        "    user = \"neo4j\"\n",
        "    password = \"zRFUl83bppdZqwmO1DFBaAxVGvZOct9LETZ_HXzJZNg\"\n",
        "    app = App(uri, user, password)\n",
        "    \n",
        "    # df_trades=df_trades.head(25)\n",
        "\n",
        "    for idx, row in df.iterrows():\n",
        "      # if row['country_code']==\"usa\" or row['country_code']==\"abw\":  \n",
        "        # app.create_country_node(row, False)\n",
        "      app.create_country_node(row, False)\n",
        "    \n",
        "    for idx, row in df.iterrows():\n",
        "      # if row['country_code']==\"usa\" or row['country_code']==\"abw\":  \n",
        "      #   app.FTA(row['FTA_id'], row['has_fta'], row['signed_year'],row['inforced_year'],row['country_code'],\"usa\")\n",
        "      app.FTA(row['FTA_id'], row['has_fta'], row['signed_year'],row['inforced_year'],row['country_code'],\"usa\")\n",
        "\n",
        "\n",
        "    for idx, row in df_products.iterrows():\n",
        "      app.product(row['section_id'],row['section_name'],row['category_id'],row['category_name'],row['item_id'],row['item_name'])\n",
        "  "
      ]
    },
    {
      "cell_type": "code",
      "execution_count": null,
      "metadata": {},
      "outputs": [],
      "source": [
        "df_trades=df_trades[~df_trades['exports_year'].isin([2000,2001,2002,2003,2004])]\n",
        "df_trades"
      ]
    },
    {
      "cell_type": "code",
      "execution_count": null,
      "metadata": {},
      "outputs": [],
      "source": [
        "\n",
        "tot_rows=0\n",
        "\n",
        "for idx, row in df_trades.iterrows():\n",
        "    tot_rows+=1\n",
        "    print(tot_rows,row['exports_from'], row['exports_to'])\n",
        "    app.trade(row['trade_id'], row['exports_from'], row['exports_to'],row['exports_year'],None,row['trade_value'],row['section_name'],row['section_id'])\n",
        "    app.trade_rel(row['trade_id'], row['exports_from'], row['exports_to'],row['exports_year'],None,row['trade_value'],row['section_name'],row['section_id'])\n",
        "\n",
        "app.close()"
      ]
    },
    {
      "cell_type": "code",
      "execution_count": null,
      "metadata": {},
      "outputs": [],
      "source": [
        "# for idx, row in df_trades.iterrows():\n",
        "#     app.trade_rel(row['trade_id'], row['exports_from'], row['exports_to'],row['exports_year'],None,row['trade_value'],row['section_name'],row['section_id'])"
      ]
    },
    {
      "cell_type": "code",
      "execution_count": null,
      "metadata": {},
      "outputs": [],
      "source": [
        "# print('starting exports from')\n",
        "# tot_rows=0\n",
        "# for country in list(df_trades['exports_from'].unique())[:]:\n",
        "#     print('working on this country from -->',country)\n",
        "#     if country!=\"usa\":\n",
        "#         a=df_trades[df_trades['exports_from']==country ]\n",
        "#         tot_rows+=len(a)\n",
        "#         for idx, row in a.iterrows():\n",
        "#             app.trade(row['trade_id'], row['exports_from'], row['exports_to'],row['exports_year'],None,row['trade_value'],row['section_name'],row['section_id'])\n",
        "# print(tot_rows)\n",
        "\n"
      ]
    },
    {
      "cell_type": "code",
      "execution_count": null,
      "metadata": {},
      "outputs": [],
      "source": [
        "# tot_rows=0\n",
        "\n",
        "# # print('starting exports to')\n",
        "# # for country in list(df_trades['exports_to'].unique())[:]:\n",
        "# #     print('working on this country to-->',country)\n",
        "# #     if country!=\"usa\":\n",
        "# #         a=df_trades[df_trades['exports_to']==country]\n",
        "# #         tot_rows+=len(a)\n",
        "# #         for idx, row in a.iterrows():\n",
        "# #             app.trade_rel(row['trade_id'], row['exports_from'], row['exports_to'],row['exports_year'],None,row['trade_value'],row['section_name'],row['section_id'])\n",
        "\n",
        "# # print(tot_rows)\n",
        "# # print('done')\n",
        "# app.close()"
      ]
    }
  ],
  "metadata": {
    "colab": {
      "provenance": []
    },
    "kernelspec": {
      "display_name": "Python 3.10.6 64-bit",
      "language": "python",
      "name": "python3"
    },
    "language_info": {
      "codemirror_mode": {
        "name": "ipython",
        "version": 3
      },
      "file_extension": ".py",
      "mimetype": "text/x-python",
      "name": "python",
      "nbconvert_exporter": "python",
      "pygments_lexer": "ipython3",
      "version": "3.10.6"
    },
    "vscode": {
      "interpreter": {
        "hash": "369f2c481f4da34e4445cda3fffd2e751bd1c4d706f27375911949ba6bb62e1c"
      }
    }
  },
  "nbformat": 4,
  "nbformat_minor": 0
}
